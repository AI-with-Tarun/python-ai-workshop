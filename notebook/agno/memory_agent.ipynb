{
  "nbformat": 4,
  "nbformat_minor": 0,
  "metadata": {
    "colab": {
      "provenance": []
    },
    "kernelspec": {
      "name": "python3",
      "display_name": "Python 3"
    },
    "language_info": {
      "name": "python"
    },
    "widgets": {
      "application/vnd.jupyter.widget-state+json": {
        "7aadf6a5d81d45f3af0cf40b1f5f503f": {
          "model_module": "@jupyter-widgets/output",
          "model_name": "OutputModel",
          "model_module_version": "1.0.0",
          "state": {
            "_dom_classes": [],
            "_model_module": "@jupyter-widgets/output",
            "_model_module_version": "1.0.0",
            "_model_name": "OutputModel",
            "_view_count": null,
            "_view_module": "@jupyter-widgets/output",
            "_view_module_version": "1.0.0",
            "_view_name": "OutputView",
            "layout": "IPY_MODEL_a26c316dfcef477e98dd4702d0a5e4f1",
            "msg_id": "",
            "outputs": [
              {
                "output_type": "display_data",
                "data": {
                  "text/plain": "\u001b[32m▰▰▰▰▱▱▱\u001b[0m Thinking...\n\u001b[36m┏━\u001b[0m\u001b[36m Message \u001b[0m\u001b[36m━━━━━━━━━━━━━━━━━━━━━━━━━━━━━━━━━━━━━━━━━━━━━━━━━━━━━━━━━━━━━━━━━━━━━━━━━━━━━━━━━━━━━━━━━━━━━━━━━━━━━━\u001b[0m\u001b[36m━┓\u001b[0m\n\u001b[36m┃\u001b[0m                                                                                                                 \u001b[36m┃\u001b[0m\n\u001b[36m┃\u001b[0m \u001b[32mI'm travelling to Europe- Vienna. Any food place recommendations?\u001b[0m                                               \u001b[36m┃\u001b[0m\n\u001b[36m┃\u001b[0m                                                                                                                 \u001b[36m┃\u001b[0m\n\u001b[36m┗━━━━━━━━━━━━━━━━━━━━━━━━━━━━━━━━━━━━━━━━━━━━━━━━━━━━━━━━━━━━━━━━━━━━━━━━━━━━━━━━━━━━━━━━━━━━━━━━━━━━━━━━━━━━━━━━━┛\u001b[0m\n\u001b[33m┏━\u001b[0m\u001b[33m Tool Calls \u001b[0m\u001b[33m━━━━━━━━━━━━━━━━━━━━━━━━━━━━━━━━━━━━━━━━━━━━━━━━━━━━━━━━━━━━━━━━━━━━━━━━━━━━━━━━━━━━━━━━━━━━━━━━━━━\u001b[0m\u001b[33m━┓\u001b[0m\n\u001b[33m┃\u001b[0m                                                                                                                 \u001b[33m┃\u001b[0m\n\u001b[33m┃\u001b[0m • add_memory(content=The user is travelling to Vienna, Europe.)                                                 \u001b[33m┃\u001b[0m\n\u001b[33m┃\u001b[0m • search_memory(query=food recommendations in Vienna)                                                           \u001b[33m┃\u001b[0m\n\u001b[33m┃\u001b[0m                                                                                                                 \u001b[33m┃\u001b[0m\n\u001b[33m┗━━━━━━━━━━━━━━━━━━━━━━━━━━━━━━━━━━━━━━━━━━━━━━━━━━━━━━━━━━━━━━━━━━━━━━━━━━━━━━━━━━━━━━━━━━━━━━━━━━━━━━━━━━━━━━━━━┛\u001b[0m\n\u001b[34m┏━\u001b[0m\u001b[34m Response (24.8s) \u001b[0m\u001b[34m━━━━━━━━━━━━━━━━━━━━━━━━━━━━━━━━━━━━━━━━━━━━━━━━━━━━━━━━━━━━━━━━━━━━━━━━━━━━━━━━━━━━━━━━━━━━━\u001b[0m\u001b[34m━┓\u001b[0m\n\u001b[34m┃\u001b[0m                                                                                                                 \u001b[34m┃\u001b[0m\n\u001b[34m┃\u001b[0m Since you're traveling to Vienna and prefer Hindu Vegetarian meals, especially Gujarati thalis, and you don't   \u001b[34m┃\u001b[0m\n\u001b[34m┃\u001b[0m like street food, I'd recommend looking for Indian restaurants in Vienna that offer a good selection of         \u001b[34m┃\u001b[0m\n\u001b[34m┃\u001b[0m vegetarian dishes. While authentic Gujarati thalis might be a bit harder to find, many Indian restaurants will  \u001b[34m┃\u001b[0m\n\u001b[34m┃\u001b[0m have a variety of vegetarian curries, dals, and bread that would fit your dietary needs.                        \u001b[34m┃\u001b[0m\n\u001b[34m┃\u001b[0m                                                                                                                 \u001b[34m┃\u001b[0m\n\u001b[34m┃\u001b[0m I suggest you look into restaurants that specialize in North Indian cuisine, as they often have a wider range   \u001b[34m┃\u001b[0m\n\u001b[34m┃\u001b[0m of vegetarian options. You can use online review sites or food delivery apps once you're in Vienna to find      \u001b[34m┃\u001b[0m\n\u001b[34m┃\u001b[0m highly-rated Indian restaurants with good vegetarian menus.                                                     \u001b[34m┃\u001b[0m\n\u001b[34m┃\u001b[0m                                                                                                                 \u001b[34m┃\u001b[0m\n\u001b[34m┗━━━━━━━━━━━━━━━━━━━━━━━━━━━━━━━━━━━━━━━━━━━━━━━━━━━━━━━━━━━━━━━━━━━━━━━━━━━━━━━━━━━━━━━━━━━━━━━━━━━━━━━━━━━━━━━━━┛\u001b[0m\n",
                  "text/html": "<pre style=\"white-space:pre;overflow-x:auto;line-height:normal;font-family:Menlo,'DejaVu Sans Mono',consolas,'Courier New',monospace\"><span style=\"color: #008000; text-decoration-color: #008000\">▰▰▰▰▱▱▱</span> Thinking...\n<span style=\"color: #008080; text-decoration-color: #008080\">┏━ Message ━━━━━━━━━━━━━━━━━━━━━━━━━━━━━━━━━━━━━━━━━━━━━━━━━━━━━━━━━━━━━━━━━━━━━━━━━━━━━━━━━━━━━━━━━━━━━━━━━━━━━━━┓</span>\n<span style=\"color: #008080; text-decoration-color: #008080\">┃</span>                                                                                                                 <span style=\"color: #008080; text-decoration-color: #008080\">┃</span>\n<span style=\"color: #008080; text-decoration-color: #008080\">┃</span> <span style=\"color: #008000; text-decoration-color: #008000\">I'm travelling to Europe- Vienna. Any food place recommendations?</span>                                               <span style=\"color: #008080; text-decoration-color: #008080\">┃</span>\n<span style=\"color: #008080; text-decoration-color: #008080\">┃</span>                                                                                                                 <span style=\"color: #008080; text-decoration-color: #008080\">┃</span>\n<span style=\"color: #008080; text-decoration-color: #008080\">┗━━━━━━━━━━━━━━━━━━━━━━━━━━━━━━━━━━━━━━━━━━━━━━━━━━━━━━━━━━━━━━━━━━━━━━━━━━━━━━━━━━━━━━━━━━━━━━━━━━━━━━━━━━━━━━━━━┛</span>\n<span style=\"color: #808000; text-decoration-color: #808000\">┏━ Tool Calls ━━━━━━━━━━━━━━━━━━━━━━━━━━━━━━━━━━━━━━━━━━━━━━━━━━━━━━━━━━━━━━━━━━━━━━━━━━━━━━━━━━━━━━━━━━━━━━━━━━━━┓</span>\n<span style=\"color: #808000; text-decoration-color: #808000\">┃</span>                                                                                                                 <span style=\"color: #808000; text-decoration-color: #808000\">┃</span>\n<span style=\"color: #808000; text-decoration-color: #808000\">┃</span> • add_memory(content=The user is travelling to Vienna, Europe.)                                                 <span style=\"color: #808000; text-decoration-color: #808000\">┃</span>\n<span style=\"color: #808000; text-decoration-color: #808000\">┃</span> • search_memory(query=food recommendations in Vienna)                                                           <span style=\"color: #808000; text-decoration-color: #808000\">┃</span>\n<span style=\"color: #808000; text-decoration-color: #808000\">┃</span>                                                                                                                 <span style=\"color: #808000; text-decoration-color: #808000\">┃</span>\n<span style=\"color: #808000; text-decoration-color: #808000\">┗━━━━━━━━━━━━━━━━━━━━━━━━━━━━━━━━━━━━━━━━━━━━━━━━━━━━━━━━━━━━━━━━━━━━━━━━━━━━━━━━━━━━━━━━━━━━━━━━━━━━━━━━━━━━━━━━━┛</span>\n<span style=\"color: #000080; text-decoration-color: #000080\">┏━ Response (24.8s) ━━━━━━━━━━━━━━━━━━━━━━━━━━━━━━━━━━━━━━━━━━━━━━━━━━━━━━━━━━━━━━━━━━━━━━━━━━━━━━━━━━━━━━━━━━━━━━┓</span>\n<span style=\"color: #000080; text-decoration-color: #000080\">┃</span>                                                                                                                 <span style=\"color: #000080; text-decoration-color: #000080\">┃</span>\n<span style=\"color: #000080; text-decoration-color: #000080\">┃</span> Since you're traveling to Vienna and prefer Hindu Vegetarian meals, especially Gujarati thalis, and you don't   <span style=\"color: #000080; text-decoration-color: #000080\">┃</span>\n<span style=\"color: #000080; text-decoration-color: #000080\">┃</span> like street food, I'd recommend looking for Indian restaurants in Vienna that offer a good selection of         <span style=\"color: #000080; text-decoration-color: #000080\">┃</span>\n<span style=\"color: #000080; text-decoration-color: #000080\">┃</span> vegetarian dishes. While authentic Gujarati thalis might be a bit harder to find, many Indian restaurants will  <span style=\"color: #000080; text-decoration-color: #000080\">┃</span>\n<span style=\"color: #000080; text-decoration-color: #000080\">┃</span> have a variety of vegetarian curries, dals, and bread that would fit your dietary needs.                        <span style=\"color: #000080; text-decoration-color: #000080\">┃</span>\n<span style=\"color: #000080; text-decoration-color: #000080\">┃</span>                                                                                                                 <span style=\"color: #000080; text-decoration-color: #000080\">┃</span>\n<span style=\"color: #000080; text-decoration-color: #000080\">┃</span> I suggest you look into restaurants that specialize in North Indian cuisine, as they often have a wider range   <span style=\"color: #000080; text-decoration-color: #000080\">┃</span>\n<span style=\"color: #000080; text-decoration-color: #000080\">┃</span> of vegetarian options. You can use online review sites or food delivery apps once you're in Vienna to find      <span style=\"color: #000080; text-decoration-color: #000080\">┃</span>\n<span style=\"color: #000080; text-decoration-color: #000080\">┃</span> highly-rated Indian restaurants with good vegetarian menus.                                                     <span style=\"color: #000080; text-decoration-color: #000080\">┃</span>\n<span style=\"color: #000080; text-decoration-color: #000080\">┃</span>                                                                                                                 <span style=\"color: #000080; text-decoration-color: #000080\">┃</span>\n<span style=\"color: #000080; text-decoration-color: #000080\">┗━━━━━━━━━━━━━━━━━━━━━━━━━━━━━━━━━━━━━━━━━━━━━━━━━━━━━━━━━━━━━━━━━━━━━━━━━━━━━━━━━━━━━━━━━━━━━━━━━━━━━━━━━━━━━━━━━┛</span>\n</pre>\n"
                },
                "metadata": {}
              }
            ]
          }
        },
        "a26c316dfcef477e98dd4702d0a5e4f1": {
          "model_module": "@jupyter-widgets/base",
          "model_name": "LayoutModel",
          "model_module_version": "1.2.0",
          "state": {
            "_model_module": "@jupyter-widgets/base",
            "_model_module_version": "1.2.0",
            "_model_name": "LayoutModel",
            "_view_count": null,
            "_view_module": "@jupyter-widgets/base",
            "_view_module_version": "1.2.0",
            "_view_name": "LayoutView",
            "align_content": null,
            "align_items": null,
            "align_self": null,
            "border": null,
            "bottom": null,
            "display": null,
            "flex": null,
            "flex_flow": null,
            "grid_area": null,
            "grid_auto_columns": null,
            "grid_auto_flow": null,
            "grid_auto_rows": null,
            "grid_column": null,
            "grid_gap": null,
            "grid_row": null,
            "grid_template_areas": null,
            "grid_template_columns": null,
            "grid_template_rows": null,
            "height": null,
            "justify_content": null,
            "justify_items": null,
            "left": null,
            "margin": null,
            "max_height": null,
            "max_width": null,
            "min_height": null,
            "min_width": null,
            "object_fit": null,
            "object_position": null,
            "order": null,
            "overflow": null,
            "overflow_x": null,
            "overflow_y": null,
            "padding": null,
            "right": null,
            "top": null,
            "visibility": null,
            "width": null
          }
        }
      }
    }
  },
  "cells": [
    {
      "cell_type": "code",
      "execution_count": null,
      "metadata": {
        "id": "UrXw_1iWpElW"
      },
      "outputs": [],
      "source": [
        "!pip install agno mem0ai opik"
      ]
    },
    {
      "cell_type": "markdown",
      "source": [
        "## Memory Utilization without Mem0AI API Key using Gemini"
      ],
      "metadata": {
        "id": "4L89T6n6qibs"
      }
    },
    {
      "cell_type": "code",
      "source": [
        "!pip install langchain langchain-community fastembed"
      ],
      "metadata": {
        "id": "bmuNjcA9t3NX"
      },
      "execution_count": null,
      "outputs": []
    },
    {
      "cell_type": "code",
      "source": [
        "import os\n",
        "from google.colab import userdata"
      ],
      "metadata": {
        "id": "z8YHJRqpuDaX"
      },
      "execution_count": null,
      "outputs": []
    },
    {
      "cell_type": "code",
      "source": [
        "os.environ[\"GOOGLE_API_KEY\"] = userdata.get('GOOGLE_API_KEY')"
      ],
      "metadata": {
        "id": "cFwsaWb4t2zq"
      },
      "execution_count": null,
      "outputs": []
    },
    {
      "cell_type": "code",
      "source": [
        "from mem0 import Memory\n",
        "from langchain_community.embeddings import FastEmbedEmbeddings"
      ],
      "metadata": {
        "id": "i2VfW98quHOs"
      },
      "execution_count": null,
      "outputs": []
    },
    {
      "cell_type": "code",
      "source": [
        "embeddings = FastEmbedEmbeddings(model_name = \"jinaai/jina-embeddings-v2-base-en\", max_length = 768)"
      ],
      "metadata": {
        "id": "1rmqJOGPuPP9"
      },
      "execution_count": null,
      "outputs": []
    },
    {
      "cell_type": "code",
      "source": [
        "config = {\n",
        "    \"llm\": {\n",
        "        \"provider\": \"gemini\",\n",
        "        \"config\": {\n",
        "            \"model\": \"gemini-2.5-flash-lite\",\n",
        "            \"temperature\": 0.8,\n",
        "        }\n",
        "    },\n",
        "    \"vector_store\": {\n",
        "        \"provider\": \"qdrant\",\n",
        "        \"config\": {\n",
        "            \"collection_name\": \"devfestbaroda\",\n",
        "            \"path\": \"/tmp/db\",\n",
        "            \"embedding_model_dims\": 768,\n",
        "        }\n",
        "    },\n",
        "    \"embedder\": {\n",
        "        \"provider\": \"langchain\",\n",
        "        \"config\": {\n",
        "            \"model\": embeddings\n",
        "        }\n",
        "    }\n",
        "}"
      ],
      "metadata": {
        "id": "jWcToGSBtUah"
      },
      "execution_count": null,
      "outputs": []
    },
    {
      "cell_type": "code",
      "source": [
        "client = Memory.from_config(config)"
      ],
      "metadata": {
        "id": "jZSojDmgu614",
        "colab": {
          "base_uri": "https://localhost:8080/"
        },
        "outputId": "c92d0f91-8c85-4052-b2c9-4951b02dab4f"
      },
      "execution_count": null,
      "outputs": [
        {
          "output_type": "stream",
          "name": "stderr",
          "text": [
            "/usr/local/lib/python3.12/dist-packages/jupyter_client/session.py:203: DeprecationWarning: datetime.datetime.utcnow() is deprecated and scheduled for removal in a future version. Use timezone-aware objects to represent datetimes in UTC: datetime.datetime.now(datetime.UTC).\n",
            "  return datetime.utcnow().replace(tzinfo=utc)\n"
          ]
        }
      ]
    },
    {
      "cell_type": "code",
      "source": [
        "messages = [\n",
        "    {\"role\": \"user\", \"content\": \"What is the must try food in Baroda\"},\n",
        "    {\"role\": \"assistant\", \"content\": \"Sev Usal is must\"},\n",
        "    {\"role\": \"user\", \"content\": \"I'm not into street food, I prefer Gujarati thalis.\"},\n",
        "    {\"role\": \"assistant\", \"content\": \"Head to Mandap in Baroda, it’s famous for authentic Gujarati thalis.\"},\n",
        "]"
      ],
      "metadata": {
        "id": "K2FJA_HHu_Qs"
      },
      "execution_count": null,
      "outputs": []
    },
    {
      "cell_type": "code",
      "source": [
        "result1 = client.add(messages, user_id=\"personal\", metadata={\"category\": \"food\"})"
      ],
      "metadata": {
        "id": "TG-SwrF7vAV1"
      },
      "execution_count": null,
      "outputs": []
    },
    {
      "cell_type": "code",
      "source": [
        "result1"
      ],
      "metadata": {
        "colab": {
          "base_uri": "https://localhost:8080/"
        },
        "id": "U5rONV9aBr8d",
        "outputId": "cea99e8f-a19e-4a2b-b3c9-717f139b745f"
      },
      "execution_count": null,
      "outputs": [
        {
          "output_type": "execute_result",
          "data": {
            "text/plain": [
              "{'results': [{'id': '501ff9ef-c9ff-4c6b-9454-218ad42a9957',\n",
              "   'memory': 'Prefers Gujarati thalis over street food',\n",
              "   'event': 'ADD'},\n",
              "  {'id': '4afb95a9-fc53-48d0-ac87-de3f30ab5744',\n",
              "   'memory': 'Mandap in Baroda is famous for authentic Gujarati thalis',\n",
              "   'event': 'ADD'}]}"
            ]
          },
          "metadata": {},
          "execution_count": 11
        }
      ]
    },
    {
      "cell_type": "code",
      "source": [
        "messages2 = [\n",
        "    {\"role\": \"user\", \"content\": \"I'm planning to travel to Hong Kong which Airlines to use from Bangalore\"},\n",
        "    {\"role\": \"assistant\", \"content\": \"Cathay Pacific is the best option and have the direct flights. Any preferences?\"},\n",
        "    {\"role\": \"user\", \"content\": \"Yes, I need Hindu Vegetarian meal and prefer window seat or person seat\"},\n",
        "    {\"role\": \"assistant\", \"content\": \"Sure, I will got it. Do you like do add anything else?\"},\n",
        "]"
      ],
      "metadata": {
        "id": "JXKwVHFY-Wwi"
      },
      "execution_count": null,
      "outputs": []
    },
    {
      "cell_type": "code",
      "source": [
        "result2 = client.add(messages2, user_id=\"personal\", metadata={\"category\": \"travel\"})"
      ],
      "metadata": {
        "id": "MLhvuDbw-YF7"
      },
      "execution_count": null,
      "outputs": []
    },
    {
      "cell_type": "code",
      "source": [
        "result2"
      ],
      "metadata": {
        "colab": {
          "base_uri": "https://localhost:8080/"
        },
        "id": "sHl_Mn3-nxkq",
        "outputId": "36800f7d-7821-4b80-f476-6b41a3278247"
      },
      "execution_count": null,
      "outputs": [
        {
          "output_type": "execute_result",
          "data": {
            "text/plain": [
              "{'results': [{'id': '5ce327bd-48ad-4e08-bd79-3de11f0dee21',\n",
              "   'memory': 'Planning to travel to Hong Kong from Bangalore',\n",
              "   'event': 'ADD'},\n",
              "  {'id': 'f2b28d67-e11c-44b7-928b-60fedc579b41',\n",
              "   'memory': 'Needs Hindu Vegetarian meal',\n",
              "   'event': 'ADD'},\n",
              "  {'id': 'e3272238-6610-461d-a871-724ff81b5167',\n",
              "   'memory': 'Prefers window seat or aisle seat',\n",
              "   'event': 'ADD'}]}"
            ]
          },
          "metadata": {},
          "execution_count": 14
        }
      ]
    },
    {
      "cell_type": "code",
      "source": [
        "query = \"I am travelling to Baroda, suggest me the dish to try and recommend place to visit\"\n",
        "query2 = \"travelling to China, need help\""
      ],
      "metadata": {
        "id": "4cUZ1Z4Eyw13"
      },
      "execution_count": null,
      "outputs": []
    },
    {
      "cell_type": "code",
      "source": [
        "memories = client.search(query2,user_id=\"personal\",limit=30)"
      ],
      "metadata": {
        "id": "LB9T2Ac7zJ6k"
      },
      "execution_count": null,
      "outputs": []
    },
    {
      "cell_type": "code",
      "source": [
        "memories['results']"
      ],
      "metadata": {
        "id": "wljvFyLUunqY",
        "colab": {
          "base_uri": "https://localhost:8080/"
        },
        "outputId": "53c64b08-9726-4ba5-8e02-d8e34a1af815"
      },
      "execution_count": null,
      "outputs": [
        {
          "output_type": "execute_result",
          "data": {
            "text/plain": [
              "[{'id': '5ce327bd-48ad-4e08-bd79-3de11f0dee21',\n",
              "  'memory': 'Planning to travel to Hong Kong from Bangalore',\n",
              "  'hash': 'dfbc94215c84af70a8caf9f541a59397',\n",
              "  'metadata': {'category': 'travel'},\n",
              "  'score': 0.7801442807204011,\n",
              "  'created_at': '2025-10-03T23:30:41.797839-07:00',\n",
              "  'updated_at': None,\n",
              "  'user_id': 'personal'},\n",
              " {'id': 'e3272238-6610-461d-a871-724ff81b5167',\n",
              "  'memory': 'Prefers window seat or aisle seat',\n",
              "  'hash': 'f4f82f42fba68952a7d252041962ebc3',\n",
              "  'metadata': {'category': 'travel'},\n",
              "  'score': 0.6743861260705318,\n",
              "  'created_at': '2025-10-03T23:30:41.849402-07:00',\n",
              "  'updated_at': None,\n",
              "  'user_id': 'personal'},\n",
              " {'id': 'f2b28d67-e11c-44b7-928b-60fedc579b41',\n",
              "  'memory': 'Needs Hindu Vegetarian meal',\n",
              "  'hash': '947effb400339f56d72a0d4ab3ebeb24',\n",
              "  'metadata': {'category': 'travel'},\n",
              "  'score': 0.6687318934645909,\n",
              "  'created_at': '2025-10-03T23:30:41.826647-07:00',\n",
              "  'updated_at': None,\n",
              "  'user_id': 'personal'},\n",
              " {'id': '501ff9ef-c9ff-4c6b-9454-218ad42a9957',\n",
              "  'memory': 'Prefers Gujarati thalis over street food',\n",
              "  'hash': 'b7bbaf0f4f017ba9a921487e6a4c1202',\n",
              "  'metadata': {'category': 'food'},\n",
              "  'score': 0.628174295056096,\n",
              "  'created_at': '2025-10-03T23:29:44.564411-07:00',\n",
              "  'updated_at': None,\n",
              "  'user_id': 'personal'},\n",
              " {'id': '4afb95a9-fc53-48d0-ac87-de3f30ab5744',\n",
              "  'memory': 'Mandap in Baroda is famous for authentic Gujarati thalis',\n",
              "  'hash': 'd98dfb5fcd35424623b915b70ae96755',\n",
              "  'metadata': {'category': 'food'},\n",
              "  'score': 0.614624144535789,\n",
              "  'created_at': '2025-10-03T23:29:44.591926-07:00',\n",
              "  'updated_at': None,\n",
              "  'user_id': 'personal'}]"
            ]
          },
          "metadata": {},
          "execution_count": 17
        }
      ]
    },
    {
      "cell_type": "code",
      "source": [
        "context = \"\\n\".join(f\"- {m['memory']}\" for m in memories['results'])"
      ],
      "metadata": {
        "id": "Z6rE0cuiqqJo"
      },
      "execution_count": null,
      "outputs": []
    },
    {
      "cell_type": "code",
      "source": [
        "context"
      ],
      "metadata": {
        "colab": {
          "base_uri": "https://localhost:8080/",
          "height": 52
        },
        "id": "WumRhviWujp5",
        "outputId": "5ce4bbc4-45df-453a-e3f0-7d2ef1a69681"
      },
      "execution_count": null,
      "outputs": [
        {
          "output_type": "execute_result",
          "data": {
            "text/plain": [
              "'- Planning to travel to Hong Kong from Bangalore\\n- Prefers window seat or aisle seat\\n- Needs Hindu Vegetarian meal\\n- Prefers Gujarati thalis over street food\\n- Mandap in Baroda is famous for authentic Gujarati thalis'"
            ],
            "application/vnd.google.colaboratory.intrinsic+json": {
              "type": "string"
            }
          },
          "metadata": {},
          "execution_count": 19
        }
      ]
    },
    {
      "cell_type": "markdown",
      "source": [
        "## Trace and Monitor"
      ],
      "metadata": {
        "id": "ovMAQQRu9IEA"
      }
    },
    {
      "cell_type": "code",
      "source": [
        "from opik import track, opik_context\n",
        "from google.genai import Client"
      ],
      "metadata": {
        "id": "eQqv_zuU9McD"
      },
      "execution_count": null,
      "outputs": []
    },
    {
      "cell_type": "code",
      "source": [
        "os.environ['OPIK_API_KEY'] = userdata.get(\"OPIK_API_KEY\")\n",
        "os.environ['OPIK_WORKSPACE'] = \"tarun-r-jain\"\n",
        "os.environ['OPIK_PROJECT_NAME'] = \"memory\""
      ],
      "metadata": {
        "id": "nQvho2YB9uQQ"
      },
      "execution_count": null,
      "outputs": []
    },
    {
      "cell_type": "code",
      "source": [
        "llm_client = Client()"
      ],
      "metadata": {
        "id": "0Kl31h1s-L3D"
      },
      "execution_count": null,
      "outputs": []
    },
    {
      "cell_type": "code",
      "source": [
        "SYSTEM_PROMPT = \"\"\"\n",
        "You are an expert executive assistant who thinks carefully before responding,\n",
        "adapting to the poliet communication style based on the previous user's established PREFERENCES and the complexity of their query.\n",
        "\n",
        "Maintain a polished, professional tone that is warm yet efficient—concise for\n",
        "simple questions, moderate for complex topics, and comprehensive for open-ended discussions.\n",
        "\n",
        "Act as a trusted advisor who doesn't just answer questions but adds value through insights, anticipates needs,\n",
        "and prioritizes what matters most while respecting the user's time with clear, actionable responses.\n",
        "\"\"\""
      ],
      "metadata": {
        "id": "YJPwG5WI-JHQ"
      },
      "execution_count": null,
      "outputs": []
    },
    {
      "cell_type": "code",
      "source": [
        "@track\n",
        "def get_llm_response(query: str, user_id: str) -> str:\n",
        "    memories = client.search(query,user_id=user_id,limit=30)\n",
        "    mem_results = memories['results']\n",
        "    context = \"\\n\".join(f\"- {m['memory']}\" for m in mem_results)\n",
        "\n",
        "    USER_PROMPT = f\"\"\"\n",
        "      <question>\n",
        "      QUESTION: {query}\n",
        "      </question>\n",
        "\n",
        "      <PREFERENCE>\n",
        "      Preference: {context}\n",
        "      </PREFERENCE>\n",
        "    \"\"\"\n",
        "\n",
        "    response = llm_client.models.generate_content(\n",
        "        model=\"gemini-2.5-flash\",\n",
        "        contents=USER_PROMPT,\n",
        "        config={\n",
        "            \"system_instruction\": SYSTEM_PROMPT\n",
        "            }\n",
        "    )\n",
        "\n",
        "    opik_context.update_current_trace(\n",
        "        metadata={\n",
        "        \"memories\": [\n",
        "            {\n",
        "                \"id\": result[\"id\"],\n",
        "                \"memory\": result[\"memory\"],\n",
        "                \"category\": result[\"metadata\"][\"category\"],\n",
        "                \"score\": result[\"score\"]\n",
        "            }\n",
        "            for result in mem_results\n",
        "        ]\n",
        "      }\n",
        "    )\n",
        "\n",
        "    return response.text"
      ],
      "metadata": {
        "id": "AzTK6r029KHX"
      },
      "execution_count": null,
      "outputs": []
    },
    {
      "cell_type": "code",
      "source": [
        "user_query = \"i need food and place recommendation for the food in New York\""
      ],
      "metadata": {
        "id": "GmvWPIaM-Y-p"
      },
      "execution_count": null,
      "outputs": []
    },
    {
      "cell_type": "code",
      "source": [
        "get_llm_response(user_query, user_id=\"personal\")"
      ],
      "metadata": {
        "id": "51ccG1Ng_u7d",
        "colab": {
          "base_uri": "https://localhost:8080/",
          "height": 194
        },
        "outputId": "3577e163-65bb-4f70-d1e6-bb03c3a8ddf2"
      },
      "execution_count": null,
      "outputs": [
        {
          "output_type": "stream",
          "name": "stderr",
          "text": [
            "OPIK: Started logging traces to the \"memory\" project at https://www.comet.com/opik/api/v1/session/redirect/projects/?trace_id=0199adea-97ef-7281-b95c-1d085779d033&path=aHR0cHM6Ly93d3cuY29tZXQuY29tL29waWsvYXBpLw==.\n"
          ]
        },
        {
          "output_type": "execute_result",
          "data": {
            "text/plain": [
              "'Certainly! Given your preference for authentic Hindu Vegetarian Gujarati thalis, akin to the experience at Mandap in Baroda, and your desire for a window or aisle seat, finding the perfect spot in New York will require a focused approach. While New York boasts a diverse Indian culinary scene, pure Gujarati thali establishments, matching the exact \"home-style\" authenticity of places like Mandap, can be a bit more niche.\\n\\nHowever, I can recommend some excellent options that come very close or offer high-quality, pure vegetarian Indian dining that may appeal to your palate:\\n\\n### Food & Place Recommendations in New York:\\n\\n1.  **Satya (formerly Satya Foods / Vadilal Dining Hall)**\\n    *   **Cuisine:** Primarily Gujarati and North Indian vegetarian.\\n    *   **Why it fits:** This is one of the strongest contenders for authentic Gujarati thalis in New York. They offer a diverse, unlimited thali experience with various subzis, dal, kadhi, roti, rice, and often a sweet, mirroring the traditional Gujarati meal structure. It\\'s often praised for its fresh, home-style taste.\\n    *   **Seating:** It\\'s a more casual dining setting, but requesting a specific table upon arrival or during reservation (if they take them) for a window or aisle spot is advisable.\\n    *   **Location:** Queens (Jackson Heights), a vibrant Indian neighborhood.\\n\\n2.  **Saravanaa Bhavan**\\n    *   **Cuisine:** South Indian Vegetarian (primarily).\\n    *   **Why it fits:** While not Gujarati, Saravanaa Bhavan is world-renowned for its authentic and delicious South Indian vegetarian fare. It’s a pure vegetarian restaurant, and their dosas, idlis, and thalis are incredibly popular. If you\\'re open to exploring other excellent Hindu vegetarian options beyond Gujarati, this is a top-tier choice for quality and taste.\\n    *   **Seating:** They have multiple locations, and some offer more spacious dining areas where a window or aisle seat could be requested.\\n    *   **Location:** Multiple locations, including Manhattan (Lexington Avenue) and others.\\n\\n3.  **Tiffin Wallah**\\n    *   **Cuisine:** South Indian Vegetarian.\\n    *   **Why it fits:** Another highly-regarded pure vegetarian South Indian restaurant, Tiffin Wallah provides an extensive menu of dosas, uttapams, curries, and full thalis. Their commitment to authentic, fresh vegetarian food is well-established.\\n    *   **Seating:** Similar to Saravanaa Bhavan, you could request a preferred seat.\\n    *   **Location:** Manhattan (Lexington Avenue).\\n\\n### Important Considerations & Tips:\\n\\n*   **Authenticity vs. Availability:** While New York has a fantastic array of Indian cuisine, finding a *direct replica* of the specific Gujarati thali experience you enjoy at Mandap in Baroda can be challenging. The recommended places are your best bet for high-quality, authentic vegetarian Indian food, with Satya being the closest for Gujarati.\\n*   **Seating Preferences:** For a window or aisle seat, I highly recommend calling the restaurant ahead of time to make a reservation and explicitly state your preference. While they can\\'t always guarantee it, they will do their best to accommodate you, especially during off-peak hours.\\n*   **Exploring Neighborhoods:** Jackson Heights in Queens is a fantastic neighborhood to explore for Indian groceries, sweets, and various regional Indian restaurants. While your preference is for thalis, it\\'s a vibrant area for a general Indian cultural experience.\\n\\nI hope these recommendations help you find a truly satisfying Hindu Vegetarian meal in New York! Enjoy your culinary exploration.'"
            ],
            "application/vnd.google.colaboratory.intrinsic+json": {
              "type": "string"
            }
          },
          "metadata": {},
          "execution_count": 26
        }
      ]
    },
    {
      "cell_type": "markdown",
      "source": [
        "## Memory Utilization with Mem0AI API key"
      ],
      "metadata": {
        "id": "AgzEgSlsqX8k"
      }
    },
    {
      "cell_type": "code",
      "source": [
        "import os\n",
        "from mem0 import MemoryClient"
      ],
      "metadata": {
        "id": "VOl3dpV6qmTl"
      },
      "execution_count": null,
      "outputs": []
    },
    {
      "cell_type": "code",
      "source": [
        "os.environ['MEM0_API_KEY'] = userdata.get('MEM0_API_KEY')"
      ],
      "metadata": {
        "id": "LNTk1bNSyOZ6"
      },
      "execution_count": null,
      "outputs": []
    },
    {
      "cell_type": "code",
      "source": [
        "mem_client = MemoryClient()"
      ],
      "metadata": {
        "id": "3Ooj-AsHqZnm"
      },
      "execution_count": null,
      "outputs": []
    },
    {
      "cell_type": "code",
      "source": [
        "new_mess1 = [\n",
        "    {\"role\": \"user\", \"content\": \"What is the must try food in Baroda\"},\n",
        "    {\"role\": \"assistant\", \"content\": \"Sev Usal is must\"},\n",
        "    {\"role\": \"user\", \"content\": \"I'm not into street food, I prefer Gujarati thalis.\"},\n",
        "    {\"role\": \"assistant\", \"content\": \"Head to Mandap in Baroda, it’s famous for authentic Gujarati thalis.\"},\n",
        "]\n",
        "mem_client.add(new_mess1, user_id=\"tarun\")"
      ],
      "metadata": {
        "id": "Xaf6Jrl3yPze",
        "colab": {
          "base_uri": "https://localhost:8080/"
        },
        "outputId": "861b54cf-9fd3-4bd4-9559-2ffb59f848f3"
      },
      "execution_count": null,
      "outputs": [
        {
          "output_type": "stream",
          "name": "stderr",
          "text": [
            "/usr/local/lib/python3.12/dist-packages/mem0/client/utils.py:38: DeprecationWarning: output_format='v1.0' is deprecated therefore setting it to 'v1.1' by default. Check out the docs for more information: https://docs.mem0.ai/platform/quickstart#4-1-create-memories\n",
            "  return func(*args, **kwargs)\n"
          ]
        },
        {
          "output_type": "execute_result",
          "data": {
            "text/plain": [
              "{'results': []}"
            ]
          },
          "metadata": {},
          "execution_count": 30
        }
      ]
    },
    {
      "cell_type": "code",
      "source": [
        "new_mess2 = [\n",
        "    {\"role\": \"user\", \"content\": \"I'm planning to travel to Hong Kong which Airlines to use from Bangalore\"},\n",
        "    {\"role\": \"assistant\", \"content\": \"Cathay Pacific is the best option and have the direct flights. Any preferences?\"},\n",
        "    {\"role\": \"user\", \"content\": \"Yes, I need Hindu Vegetarian meal and prefer window seat or person seat\"},\n",
        "    {\"role\": \"assistant\", \"content\": \"Sure, I will got it. Do you like do add anything else?\"},\n",
        "]\n",
        "mem_client.add(new_mess2, user_id=\"tarun\")"
      ],
      "metadata": {
        "id": "u1fsRPq0yZyT",
        "colab": {
          "base_uri": "https://localhost:8080/"
        },
        "outputId": "b75b46f3-8539-409b-fbf2-2609ae8994c3"
      },
      "execution_count": null,
      "outputs": [
        {
          "output_type": "execute_result",
          "data": {
            "text/plain": [
              "{'results': []}"
            ]
          },
          "metadata": {},
          "execution_count": 31
        }
      ]
    },
    {
      "cell_type": "code",
      "source": [
        "query = \"I'm travelling to Europe- Vienna. Any food place recommendations?\"\n",
        "res = mem_client.search(query,user_id = \"tarun\")"
      ],
      "metadata": {
        "id": "fSi3309pyqvM"
      },
      "execution_count": null,
      "outputs": []
    },
    {
      "cell_type": "code",
      "source": [
        "res"
      ],
      "metadata": {
        "id": "JDhESE78zMsU",
        "colab": {
          "base_uri": "https://localhost:8080/"
        },
        "outputId": "04a5741f-8ade-44a1-bf3a-cc6aad7ddab1"
      },
      "execution_count": null,
      "outputs": [
        {
          "output_type": "execute_result",
          "data": {
            "text/plain": [
              "[{'id': '6bb35c4d-287a-44e0-b02f-1e39794d4867',\n",
              "  'memory': 'User Needs Hindu Vegetarian meal',\n",
              "  'user_id': 'tarun',\n",
              "  'metadata': None,\n",
              "  'categories': ['user_preferences', 'food'],\n",
              "  'created_at': '2025-10-03T13:36:56.076879-07:00',\n",
              "  'updated_at': '2025-10-03T13:36:56.103375-07:00',\n",
              "  'expiration_date': None,\n",
              "  'structured_attributes': {'day': 3,\n",
              "   'hour': 20,\n",
              "   'year': 2025,\n",
              "   'month': 10,\n",
              "   'minute': 36,\n",
              "   'quarter': 4,\n",
              "   'is_weekend': False,\n",
              "   'day_of_week': 'friday',\n",
              "   'day_of_year': 276,\n",
              "   'week_of_year': 40},\n",
              "  'score': 0.4946957354749122},\n",
              " {'id': '60598a8d-b34a-4a81-a2bf-a704c2f3a899',\n",
              "  'memory': 'User Does not like street food',\n",
              "  'user_id': 'tarun',\n",
              "  'metadata': None,\n",
              "  'categories': ['user_preferences', 'food'],\n",
              "  'created_at': '2025-10-03T13:35:48.901778-07:00',\n",
              "  'updated_at': '2025-10-03T13:35:48.971657-07:00',\n",
              "  'expiration_date': None,\n",
              "  'structured_attributes': {'day': 3,\n",
              "   'hour': 20,\n",
              "   'year': 2025,\n",
              "   'month': 10,\n",
              "   'minute': 35,\n",
              "   'quarter': 4,\n",
              "   'is_weekend': False,\n",
              "   'day_of_week': 'friday',\n",
              "   'day_of_year': 276,\n",
              "   'week_of_year': 40},\n",
              "  'score': 0.4936470220604221},\n",
              " {'id': '8318eaa6-01b0-4c1b-94df-3cd8fd075ff5',\n",
              "  'memory': 'User Is planning to travel to Hong Kong from Bangalore',\n",
              "  'user_id': 'tarun',\n",
              "  'metadata': None,\n",
              "  'categories': ['travel'],\n",
              "  'created_at': '2025-10-03T13:36:55.958097-07:00',\n",
              "  'updated_at': '2025-10-03T13:36:55.984779-07:00',\n",
              "  'expiration_date': None,\n",
              "  'structured_attributes': {'day': 3,\n",
              "   'hour': 20,\n",
              "   'year': 2025,\n",
              "   'month': 10,\n",
              "   'minute': 36,\n",
              "   'quarter': 4,\n",
              "   'is_weekend': False,\n",
              "   'day_of_week': 'friday',\n",
              "   'day_of_year': 276,\n",
              "   'week_of_year': 40},\n",
              "  'score': 0.46451637906371546},\n",
              " {'id': '007d59a1-01f9-45c6-9f7c-aad9ad6a3d34',\n",
              "  'memory': 'User Prefers Gujarati thalis over street food',\n",
              "  'user_id': 'tarun',\n",
              "  'metadata': {},\n",
              "  'categories': ['food', 'user_preferences'],\n",
              "  'created_at': '2025-10-03T13:35:48.783272-07:00',\n",
              "  'updated_at': '2025-10-03T13:36:55.862507-07:00',\n",
              "  'expiration_date': None,\n",
              "  'structured_attributes': None,\n",
              "  'score': 0.45949364442475127},\n",
              " {'id': 'e8960ae0-5c17-40f7-b355-57c3e9603575',\n",
              "  'memory': 'User Prefers window seat or person seat',\n",
              "  'user_id': 'tarun',\n",
              "  'metadata': None,\n",
              "  'categories': ['user_preferences'],\n",
              "  'created_at': '2025-10-03T13:36:56.191385-07:00',\n",
              "  'updated_at': '2025-10-03T13:36:56.216779-07:00',\n",
              "  'expiration_date': None,\n",
              "  'structured_attributes': {'day': 3,\n",
              "   'hour': 20,\n",
              "   'year': 2025,\n",
              "   'month': 10,\n",
              "   'minute': 36,\n",
              "   'quarter': 4,\n",
              "   'is_weekend': False,\n",
              "   'day_of_week': 'friday',\n",
              "   'day_of_year': 276,\n",
              "   'week_of_year': 40},\n",
              "  'score': 0.4064493891345189}]"
            ]
          },
          "metadata": {},
          "execution_count": 33
        }
      ]
    },
    {
      "cell_type": "code",
      "source": [
        "new_context = \"\\n\".join(f\"- {m['memory']}\" for m in res)"
      ],
      "metadata": {
        "id": "6u-emjWDy-1G"
      },
      "execution_count": null,
      "outputs": []
    },
    {
      "cell_type": "code",
      "source": [
        "new_context"
      ],
      "metadata": {
        "colab": {
          "base_uri": "https://localhost:8080/",
          "height": 52
        },
        "id": "-Xoc1a5BzLc5",
        "outputId": "3945e8c6-cfc7-4917-cde8-7a5174eee54e"
      },
      "execution_count": null,
      "outputs": [
        {
          "output_type": "execute_result",
          "data": {
            "text/plain": [
              "'- User Needs Hindu Vegetarian meal\\n- User Does not like street food\\n- User Is planning to travel to Hong Kong from Bangalore\\n- User Prefers Gujarati thalis over street food\\n- User Prefers window seat or person seat'"
            ],
            "application/vnd.google.colaboratory.intrinsic+json": {
              "type": "string"
            }
          },
          "metadata": {},
          "execution_count": 35
        }
      ]
    },
    {
      "cell_type": "code",
      "source": [
        "USER_PROMPT2 = f\"\"\"\n",
        "<question>\n",
        "QUESTION: {query}\n",
        "</question>\n",
        "\n",
        "<PREFERENCE>\n",
        "Preference: {new_context}\n",
        "</PREFERENCE>\n",
        "\"\"\""
      ],
      "metadata": {
        "id": "zeW5oWRHzXZe"
      },
      "execution_count": null,
      "outputs": []
    },
    {
      "cell_type": "code",
      "source": [
        "llm_client = Client()"
      ],
      "metadata": {
        "id": "MUw2cg1Ozmgr"
      },
      "execution_count": null,
      "outputs": []
    },
    {
      "cell_type": "code",
      "source": [
        "llm_response = llm_client.models.generate_content(\n",
        "    model=\"gemini-2.5-flash\",\n",
        "    contents=USER_PROMPT2,\n",
        "    config={\n",
        "        \"system_instruction\": SYSTEM_PROMPT\n",
        "    }\n",
        ")"
      ],
      "metadata": {
        "id": "MKD2tBDCzUde"
      },
      "execution_count": null,
      "outputs": []
    },
    {
      "cell_type": "code",
      "source": [
        "print(llm_response.text)"
      ],
      "metadata": {
        "colab": {
          "base_uri": "https://localhost:8080/"
        },
        "id": "1-CWLhVnzb4w",
        "outputId": "3fd3e9f2-a707-4aaf-afd8-2c89278db9b8"
      },
      "execution_count": null,
      "outputs": [
        {
          "output_type": "stream",
          "name": "stdout",
          "text": [
            "Certainly! Vienna offers a delightful culinary scene, and with your preference for Hindu Vegetarian meals in a sit-down restaurant setting, avoiding street food, I can provide some excellent recommendations. While a traditional \"Gujarati Thali\" might be rare to find outside of India, these options will ensure you have delicious and satisfying vegetarian meals.\n",
            "\n",
            "Here are some highly-regarded establishments in Vienna that cater to vegetarian diets, focusing on quality and a pleasant dining experience:\n",
            "\n",
            "### **For Authentic Indian Flavors (Closest to your Gujarati Thali Preference):**\n",
            "\n",
            "1.  **Tulsi Indian Cuisine:**\n",
            "    *   **Type:** Traditional Indian Restaurant\n",
            "    *   **Why it's a fit:** Tulsi is highly regarded for its authentic Indian dishes with a strong emphasis on fresh ingredients. They have a comprehensive vegetarian menu, and the staff are generally very accommodating regarding specific dietary requests (e.g., no onion/garlic if preferred). The ambiance is refined and comfortable, perfect for a sit-down meal.\n",
            "    *   **Locations:** They have multiple locations (e.g., Wiedner Hauptstraße, Opernring). It's worth checking which is most convenient for your itinerary.\n",
            "\n",
            "2.  **Namoos Indian Restaurant:**\n",
            "    *   **Type:** Contemporary Indian Restaurant\n",
            "    *   **Why it's a fit:** Namoos offers a slightly more modern take on Indian cuisine while maintaining authentic flavors. Their vegetarian options are plentiful and well-prepared. The atmosphere is inviting, making it a great choice for a relaxed and flavorful meal.\n",
            "\n",
            "### **For Exceptional Vegetarian/Vegan Dining (Local & International):**\n",
            "\n",
            "3.  **Tian Restaurant (Michelin-starred):**\n",
            "    *   **Type:** High-End Vegetarian/Vegan Fine Dining\n",
            "    *   **Why it's a fit:** If you're looking for a truly special and memorable dining experience, Tian is an absolute must. It's one of the few Michelin-starred vegetarian restaurants in the world, offering incredibly creative and exquisitely plated dishes. It's entirely vegetarian and vegan, so you'll have a wide array of options without any concern. This is far removed from street food and offers a sophisticated culinary journey.\n",
            "    *   **Note:** Reservations are essential, and it's a higher price point.\n",
            "\n",
            "4.  **Yamm! Organic Market Eatery:**\n",
            "    *   **Type:** Upscale Vegetarian/Vegan Buffet & À la Carte\n",
            "    *   **Why it's a fit:** Yamm! is a fantastic option for a diverse and wholesome vegetarian meal. It operates largely as a high-quality buffet where you pay by weight, allowing you to choose from a vast selection of hot dishes, salads, and sides, all vegetarian and mostly organic. It's a spacious, modern, and vibrant restaurant, perfect for a relaxed yet substantial meal. Definitely not street food, and offers great flexibility.\n",
            "\n",
            "5.  **Govinda (Hare Krishna Restaurant):**\n",
            "    *   **Type:** Wholesome, Budget-Friendly Vegetarian/Vegan\n",
            "    *   **Why it's a fit:** For a simple, pure, and very safe Hindu vegetarian meal, Govinda is an excellent choice. Operated by the Hare Krishna community, the food is prepared with sattvic principles (typically no onion, garlic, or meat products). It's usually a fixed-menu, hearty, and very affordable meal in a humble, friendly setting. It offers a very authentic and clean vegetarian experience.\n",
            "\n",
            "### **Important Tips for Your Visit:**\n",
            "\n",
            "*   **Reservations:** For Tian, reservations are absolutely essential, often weeks in advance. For other popular restaurants, especially for dinner, booking a table is highly recommended to avoid disappointment.\n",
            "*   **Specify Dietary Needs:** Even at vegetarian-focused restaurants, it's always a good practice to politely reiterate your preference for \"Hindu Vegetarian\" or \"pure vegetarian\" meals when ordering, just to ensure there are no misunderstandings (e.g., regarding non-vegetarian broths or cross-contamination, though less likely at dedicated vegetarian places).\n",
            "*   **Enjoy Vienna's Charm:** Beyond the food, Vienna offers incredible cultural experiences. Enjoy your travels!\n",
            "\n",
            "I hope these recommendations help you savor the best of Vienna's culinary offerings! Please let me know if you have any other questions as you plan your trip.\n"
          ]
        }
      ]
    },
    {
      "cell_type": "markdown",
      "source": [
        "## Agents with Memory"
      ],
      "metadata": {
        "id": "cnMnpPYvqZ-i"
      }
    },
    {
      "cell_type": "code",
      "source": [
        "from agno.agent import Agent\n",
        "from agno.models.google import Gemini\n",
        "from agno.tools.mem0 import Mem0Tools"
      ],
      "metadata": {
        "id": "BHTm0mU-pvTT"
      },
      "execution_count": null,
      "outputs": []
    },
    {
      "cell_type": "code",
      "source": [
        "os.environ['MEM0_API_KEY'] = userdata.get('MEM0_API_KEY')"
      ],
      "metadata": {
        "id": "jsVjKC_xEXAI"
      },
      "execution_count": null,
      "outputs": []
    },
    {
      "cell_type": "code",
      "source": [
        "agent = Agent(\n",
        "    name=\"Personal Agent\",\n",
        "    model=Gemini(id=\"gemini-2.5-flash\"),\n",
        "    tools=[Mem0Tools(all=True)],\n",
        "    user_id=\"tarun\",\n",
        "    description=\"Seasoned personal executive assistant that remembers and personalizes your interests.\",\n",
        "    instructions = \"\"\"You have full access to memory operations. You can create, search, update, and delete memories.\n",
        "        Proactively manage memories to provide the best user experience.\"\"\",\n",
        "    markdown = True\n",
        ")"
      ],
      "metadata": {
        "id": "NIouDR7vD716"
      },
      "execution_count": null,
      "outputs": []
    },
    {
      "cell_type": "code",
      "source": [
        "agent.print_response(\"I'm travelling to Europe- Vienna. Any food place recommendations?\",\n",
        "                     stream=True)"
      ],
      "metadata": {
        "colab": {
          "base_uri": "https://localhost:8080/",
          "height": 508,
          "referenced_widgets": [
            "7aadf6a5d81d45f3af0cf40b1f5f503f",
            "a26c316dfcef477e98dd4702d0a5e4f1"
          ]
        },
        "id": "bvdz16esEX6d",
        "outputId": "580678e7-96d5-46a2-ce59-11a574497633"
      },
      "execution_count": null,
      "outputs": [
        {
          "output_type": "display_data",
          "data": {
            "text/plain": [
              "Output()"
            ],
            "application/vnd.jupyter.widget-view+json": {
              "version_major": 2,
              "version_minor": 0,
              "model_id": "7aadf6a5d81d45f3af0cf40b1f5f503f"
            }
          },
          "metadata": {}
        },
        {
          "output_type": "display_data",
          "data": {
            "text/plain": [
              "/usr/local/lib/python3.12/dist-packages/ipywidgets/widgets/widget_output.py:111: DeprecationWarning: \n",
              "Kernel._parent_header is deprecated in ipykernel 6. Use .get_parent()\n",
              "  if ip and hasattr(ip, 'kernel') and hasattr(ip.kernel, '_parent_header'):\n"
            ],
            "text/html": [
              "<pre style=\"white-space:pre;overflow-x:auto;line-height:normal;font-family:Menlo,'DejaVu Sans Mono',consolas,'Courier New',monospace\">/usr/local/lib/python3.12/dist-packages/ipywidgets/widgets/widget_output.py:111: DeprecationWarning: \n",
              "Kernel._parent_header is deprecated in ipykernel 6. Use .get_parent()\n",
              "  if ip and hasattr(ip, 'kernel') and hasattr(ip.kernel, '_parent_header'):\n",
              "</pre>\n"
            ]
          },
          "metadata": {}
        },
        {
          "output_type": "display_data",
          "data": {
            "text/plain": [
              "/usr/local/lib/python3.12/dist-packages/ipywidgets/widgets/widget_output.py:112: DeprecationWarning: \n",
              "Kernel._parent_header is deprecated in ipykernel 6. Use .get_parent()\n",
              "  self.msg_id = ip.kernel._parent_header['header']['msg_id']\n"
            ],
            "text/html": [
              "<pre style=\"white-space:pre;overflow-x:auto;line-height:normal;font-family:Menlo,'DejaVu Sans Mono',consolas,'Courier New',monospace\">/usr/local/lib/python3.12/dist-packages/ipywidgets/widgets/widget_output.py:112: DeprecationWarning: \n",
              "Kernel._parent_header is deprecated in ipykernel 6. Use .get_parent()\n",
              "  self.msg_id = ip.kernel._parent_header['header']['msg_id']\n",
              "</pre>\n"
            ]
          },
          "metadata": {}
        },
        {
          "output_type": "display_data",
          "data": {
            "text/plain": [],
            "text/html": [
              "<pre style=\"white-space:pre;overflow-x:auto;line-height:normal;font-family:Menlo,'DejaVu Sans Mono',consolas,'Courier New',monospace\"></pre>\n"
            ]
          },
          "metadata": {}
        }
      ]
    }
  ]
}