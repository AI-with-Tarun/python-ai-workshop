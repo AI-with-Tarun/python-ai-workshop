{
  "nbformat": 4,
  "nbformat_minor": 0,
  "metadata": {
    "colab": {
      "provenance": []
    },
    "kernelspec": {
      "name": "python3",
      "display_name": "Python 3"
    },
    "language_info": {
      "name": "python"
    }
  },
  "cells": [
    {
      "cell_type": "markdown",
      "source": [
        "## OOPs"
      ],
      "metadata": {
        "id": "k8hSMTUNKJqj"
      }
    },
    {
      "cell_type": "code",
      "source": [
        "class Car:\n",
        "    def __init__(self, brand, model): #initialize instance variables- constructor\n",
        "        # object: current instance\n",
        "        # instance variables - attributes of the class\n",
        "        self.brand = brand # self refers to the current object you’re working with.\n",
        "        self.model = model\n",
        "        self.speed = 0\n",
        "        # here brand, model and speed are the attributes or instance variables\n",
        "\n",
        "    # Instance Methods\n",
        "    def accelerate(self, increment):\n",
        "        self.speed += increment\n",
        "        return f\"{self.brand} {self.model} is now going {self.speed} km/h\""
      ],
      "metadata": {
        "id": "cJq0y3yr9sB5"
      },
      "execution_count": null,
      "outputs": []
    },
    {
      "cell_type": "code",
      "source": [
        "car1 = Car(\"Toyota\", \"Camry\") # self here refers to the same object car1.\n",
        "print(car1.accelerate(50)) # Instance variables persist here it is brand, model and speed"
      ],
      "metadata": {
        "colab": {
          "base_uri": "https://localhost:8080/"
        },
        "id": "rc0mKcLRAIdW",
        "outputId": "9118c3c5-d9df-4e40-cc1b-4616cd4eb081"
      },
      "execution_count": null,
      "outputs": [
        {
          "output_type": "stream",
          "name": "stdout",
          "text": [
            "Toyota Camry is now going 50 km/h\n"
          ]
        }
      ]
    },
    {
      "cell_type": "code",
      "source": [
        "car1.brand = \"Tesla\"\n",
        "car1.model = \"Model Y\""
      ],
      "metadata": {
        "id": "uC6WYOgBIa3U"
      },
      "execution_count": null,
      "outputs": []
    },
    {
      "cell_type": "code",
      "source": [
        "car1.accelerate(70) # state persistence"
      ],
      "metadata": {
        "colab": {
          "base_uri": "https://localhost:8080/",
          "height": 35
        },
        "id": "aG6sx7N_Ikl_",
        "outputId": "48889630-cf8b-4340-ddc1-e766b6ce350b"
      },
      "execution_count": null,
      "outputs": [
        {
          "output_type": "execute_result",
          "data": {
            "text/plain": [
              "'Tesla Model Y is now going 130 km/h'"
            ],
            "application/vnd.google.colaboratory.intrinsic+json": {
              "type": "string"
            }
          },
          "metadata": {},
          "execution_count": 15
        }
      ]
    },
    {
      "cell_type": "code",
      "source": [
        "car1.speed"
      ],
      "metadata": {
        "colab": {
          "base_uri": "https://localhost:8080/"
        },
        "id": "GNqeQY7ZOoxU",
        "outputId": "16a8fc33-22e5-4276-c8cd-e605f57409ca"
      },
      "execution_count": null,
      "outputs": [
        {
          "output_type": "execute_result",
          "data": {
            "text/plain": [
              "130"
            ]
          },
          "metadata": {},
          "execution_count": 40
        }
      ]
    },
    {
      "cell_type": "code",
      "source": [
        "type(car1)"
      ],
      "metadata": {
        "colab": {
          "base_uri": "https://localhost:8080/",
          "height": 104
        },
        "id": "b5vJ16FFLbfR",
        "outputId": "9fd3a4e3-6ddd-4e6b-85aa-5bd923be5d8a"
      },
      "execution_count": null,
      "outputs": [
        {
          "output_type": "execute_result",
          "data": {
            "text/plain": [
              "__main__.Car"
            ],
            "text/html": [
              "<div style=\"max-width:800px; border: 1px solid var(--colab-border-color);\"><style>\n",
              "      pre.function-repr-contents {\n",
              "        overflow-x: auto;\n",
              "        padding: 8px 12px;\n",
              "        max-height: 500px;\n",
              "      }\n",
              "\n",
              "      pre.function-repr-contents.function-repr-contents-collapsed {\n",
              "        cursor: pointer;\n",
              "        max-height: 100px;\n",
              "      }\n",
              "    </style>\n",
              "    <pre style=\"white-space: initial; background:\n",
              "         var(--colab-secondary-surface-color); padding: 8px 12px;\n",
              "         border-bottom: 1px solid var(--colab-border-color);\"><b>Car</b><br/>def __init__(brand, model)</pre><pre class=\"function-repr-contents function-repr-contents-collapsed\" style=\"\"><a class=\"filepath\" style=\"display:none\" href=\"#\"></a>&lt;no docstring&gt;</pre></div>"
            ]
          },
          "metadata": {},
          "execution_count": 3
        }
      ]
    },
    {
      "cell_type": "code",
      "source": [
        "class Animal:\n",
        "    def __init__(self, name):\n",
        "        self.name = name\n",
        "\n",
        "    def speak(self):\n",
        "        return f\"{self.name} makes a sound\"\n",
        "\n",
        "class Dog(Animal):\n",
        "    def speak(self):\n",
        "        return f\"{self.name} barks!\""
      ],
      "metadata": {
        "id": "iYoYGcvHHiZ6"
      },
      "execution_count": null,
      "outputs": []
    },
    {
      "cell_type": "code",
      "source": [
        "dog = Dog(\"Buddy\")\n",
        "print(dog.speak())"
      ],
      "metadata": {
        "colab": {
          "base_uri": "https://localhost:8080/"
        },
        "id": "F1ZleIHcHr0v",
        "outputId": "1f3fd50f-2eb8-4fae-eab0-7340329348ba"
      },
      "execution_count": null,
      "outputs": [
        {
          "output_type": "stream",
          "name": "stdout",
          "text": [
            "Buddy barks!\n"
          ]
        }
      ]
    },
    {
      "cell_type": "code",
      "source": [
        "class Student:\n",
        "    def __init__(self, name):\n",
        "        self.name = name\n",
        "        self.grades = []\n",
        "\n",
        "    def add_grade(self, grade):\n",
        "        self.grades.append(grade)\n",
        "        print(f\"Grades list ID in memory: {id(self.grades)}\")  # show memory address\n",
        "\n",
        "    def get_grade(self):\n",
        "        return self.grades\n",
        "\n",
        "    def get_average(self):\n",
        "        return sum(self.grades) / len(self.grades)"
      ],
      "metadata": {
        "id": "F6gS2EtwJmYk"
      },
      "execution_count": null,
      "outputs": []
    },
    {
      "cell_type": "code",
      "source": [
        "student = Student(\"X\")\n",
        "student.add_grade(85)\n",
        "print(student.get_grade())\n",
        "student.add_grade(92)\n",
        "print(student.get_grade())"
      ],
      "metadata": {
        "colab": {
          "base_uri": "https://localhost:8080/"
        },
        "id": "UETtuNw9KrTt",
        "outputId": "7baa4a8e-faed-4a49-ecd3-912c24b00ab5"
      },
      "execution_count": null,
      "outputs": [
        {
          "output_type": "stream",
          "name": "stdout",
          "text": [
            "Grades list ID in memory: 134666337131136\n",
            "[85]\n",
            "Grades list ID in memory: 134666337131136\n",
            "[85, 92]\n"
          ]
        }
      ]
    },
    {
      "cell_type": "code",
      "source": [
        "student.add_grade(100)"
      ],
      "metadata": {
        "colab": {
          "base_uri": "https://localhost:8080/"
        },
        "id": "B8r1gpVoK8uQ",
        "outputId": "3a29030d-8688-44f8-8315-d62ca46f7fca"
      },
      "execution_count": null,
      "outputs": [
        {
          "output_type": "stream",
          "name": "stdout",
          "text": [
            "Grades list ID in memory: 132390768530752\n"
          ]
        }
      ]
    },
    {
      "cell_type": "code",
      "source": [
        "print(student.get_grade())"
      ],
      "metadata": {
        "colab": {
          "base_uri": "https://localhost:8080/"
        },
        "id": "86KZwoXTK_Js",
        "outputId": "2fa83aff-37be-4d8a-8cc7-023344200ffb"
      },
      "execution_count": null,
      "outputs": [
        {
          "output_type": "stream",
          "name": "stdout",
          "text": [
            "[85, 92, 100]\n"
          ]
        }
      ]
    },
    {
      "cell_type": "code",
      "source": [
        "student.get_average()"
      ],
      "metadata": {
        "colab": {
          "base_uri": "https://localhost:8080/"
        },
        "id": "eSoxOTRlLCnE",
        "outputId": "75ca1682-5780-4419-dbde-80d81f6e20d3"
      },
      "execution_count": null,
      "outputs": [
        {
          "output_type": "execute_result",
          "data": {
            "text/plain": [
              "92.33333333333333"
            ]
          },
          "metadata": {},
          "execution_count": 10
        }
      ]
    },
    {
      "cell_type": "markdown",
      "source": [
        "## Property"
      ],
      "metadata": {
        "id": "IOmRmBB0Gwll"
      }
    },
    {
      "cell_type": "code",
      "source": [
        "class BankAccount:\n",
        "    def __init__(self, balance=0):\n",
        "        self._balance = balance\n",
        "\n",
        "    @property\n",
        "    def balance(self):\n",
        "        return self._balance\n",
        "\n",
        "    def deposit(self, amount):\n",
        "        if amount > 0:\n",
        "            self._balance += amount\n",
        "        return self._balance"
      ],
      "metadata": {
        "id": "1GiLXG5sMdYQ"
      },
      "execution_count": null,
      "outputs": []
    },
    {
      "cell_type": "code",
      "source": [
        "account = BankAccount(100)\n",
        "print(account.balance)  # 100\n",
        "account.deposit(50)\n",
        "print(account.balance)"
      ],
      "metadata": {
        "colab": {
          "base_uri": "https://localhost:8080/"
        },
        "id": "s7eLom2cMfA6",
        "outputId": "afb094a6-b547-4242-af68-433b049761d2"
      },
      "execution_count": null,
      "outputs": [
        {
          "output_type": "stream",
          "name": "stdout",
          "text": [
            "100\n",
            "150\n"
          ]
        }
      ]
    },
    {
      "cell_type": "code",
      "source": [
        "class Account:\n",
        "    def __init__(self):\n",
        "        self.balanace = 5000 # public\n",
        "        self._balance = 2500 # protected (by convention)\n",
        "        # balance and _balance behave exactly the same at runtime.\n",
        "        self.__balance = 1000 # private\n",
        "\n",
        "    @property\n",
        "    def access_private(self):\n",
        "        print(self.__balance)"
      ],
      "metadata": {
        "id": "LgLnTTsLIG1R"
      },
      "execution_count": null,
      "outputs": []
    },
    {
      "cell_type": "code",
      "source": [
        "acc = Account()"
      ],
      "metadata": {
        "id": "jLV_-ykIIIfj"
      },
      "execution_count": null,
      "outputs": []
    },
    {
      "cell_type": "code",
      "source": [
        "acc.balanace = 400"
      ],
      "metadata": {
        "id": "n6jd4UsJJpAn"
      },
      "execution_count": null,
      "outputs": []
    },
    {
      "cell_type": "code",
      "source": [
        "acc._balance = 500"
      ],
      "metadata": {
        "id": "HN7ZwN5PKBLx"
      },
      "execution_count": null,
      "outputs": []
    },
    {
      "cell_type": "code",
      "source": [
        "acc.__balance # error"
      ],
      "metadata": {
        "colab": {
          "base_uri": "https://localhost:8080/",
          "height": 141
        },
        "id": "R_5Oe8BQKEda",
        "outputId": "56b1aeb9-9bc6-45a5-8a47-14d4b2cf0931"
      },
      "execution_count": null,
      "outputs": [
        {
          "output_type": "error",
          "ename": "AttributeError",
          "evalue": "'Account' object has no attribute '__balance'",
          "traceback": [
            "\u001b[0;31m---------------------------------------------------------------------------\u001b[0m",
            "\u001b[0;31mAttributeError\u001b[0m                            Traceback (most recent call last)",
            "\u001b[0;32m/tmp/ipython-input-2638773036.py\u001b[0m in \u001b[0;36m<cell line: 0>\u001b[0;34m()\u001b[0m\n\u001b[0;32m----> 1\u001b[0;31m \u001b[0macc\u001b[0m\u001b[0;34m.\u001b[0m\u001b[0m__balance\u001b[0m\u001b[0;34m\u001b[0m\u001b[0;34m\u001b[0m\u001b[0m\n\u001b[0m",
            "\u001b[0;31mAttributeError\u001b[0m: 'Account' object has no attribute '__balance'"
          ]
        }
      ]
    },
    {
      "cell_type": "code",
      "source": [
        "acc.access_private"
      ],
      "metadata": {
        "colab": {
          "base_uri": "https://localhost:8080/"
        },
        "id": "YrHuUzQBKNcr",
        "outputId": "80c8ab71-0281-4f1e-f899-0127c93b372f"
      },
      "execution_count": null,
      "outputs": [
        {
          "output_type": "stream",
          "name": "stdout",
          "text": [
            "1000\n"
          ]
        }
      ]
    },
    {
      "cell_type": "markdown",
      "source": [
        "## Decorators"
      ],
      "metadata": {
        "id": "zdCzhDkjKpNz"
      }
    },
    {
      "cell_type": "markdown",
      "source": [
        "- The decorator centralizes the logic — change it once, and it applies everywhere.\n",
        "- you’d have to write the same if not user_logged_in: ... check in every function.\n",
        "- DRY (Don’t Repeat Yourself) code."
      ],
      "metadata": {
        "id": "Yp1_Rk7WTLnW"
      }
    },
    {
      "cell_type": "code",
      "source": [
        "def log_decorator(func):\n",
        "    def wrapper():\n",
        "        print(f\"Running {func.__name__}\")\n",
        "        return func()\n",
        "    return wrapper"
      ],
      "metadata": {
        "id": "TfzaFbiIR2R5"
      },
      "execution_count": null,
      "outputs": []
    },
    {
      "cell_type": "code",
      "source": [
        "@log_decorator\n",
        "def greet():\n",
        "    print(\"Hello, Tarun!\")"
      ],
      "metadata": {
        "id": "K_3ZB35DR4tI"
      },
      "execution_count": null,
      "outputs": []
    },
    {
      "cell_type": "code",
      "source": [
        "greet()"
      ],
      "metadata": {
        "colab": {
          "base_uri": "https://localhost:8080/"
        },
        "id": "jG4bgELBR7h2",
        "outputId": "f0a85c69-b497-44f4-e3ba-df5419e9951e"
      },
      "execution_count": null,
      "outputs": [
        {
          "output_type": "stream",
          "name": "stdout",
          "text": [
            "Running greet\n",
            "Hello, Tarun!\n"
          ]
        }
      ]
    },
    {
      "cell_type": "code",
      "source": [
        "def log_db_operation(func):\n",
        "    def log_and_execute():\n",
        "        print(f\"[LOG] Running database operation: {func.__name__}\")\n",
        "        return func()\n",
        "    return log_and_execute"
      ],
      "metadata": {
        "id": "-xnE0WCASOKR"
      },
      "execution_count": null,
      "outputs": []
    },
    {
      "cell_type": "code",
      "source": [
        "@log_db_operation\n",
        "def insert_data():\n",
        "    print(\"Inserting data into DB...\")"
      ],
      "metadata": {
        "id": "6q3xXmWLSR5V"
      },
      "execution_count": null,
      "outputs": []
    },
    {
      "cell_type": "code",
      "source": [
        "@log_db_operation\n",
        "def delete_data():\n",
        "    print(\"Deleting data from DB...\")"
      ],
      "metadata": {
        "id": "kAgDoicFSTIz"
      },
      "execution_count": null,
      "outputs": []
    },
    {
      "cell_type": "code",
      "source": [
        "insert_data()\n",
        "delete_data()"
      ],
      "metadata": {
        "colab": {
          "base_uri": "https://localhost:8080/"
        },
        "id": "0PuVKuVQSNCs",
        "outputId": "66b09094-1a67-48db-db00-dfeaf4686269"
      },
      "execution_count": null,
      "outputs": [
        {
          "output_type": "stream",
          "name": "stdout",
          "text": [
            "[LOG] Running database operation: insert_data\n",
            "Inserting data into DB...\n",
            "[LOG] Running database operation: delete_data\n",
            "Deleting data from DB...\n"
          ]
        }
      ]
    },
    {
      "cell_type": "code",
      "source": [
        "def require_pin(func):\n",
        "    def check_pin():\n",
        "        pin = input(\"Enter PIN: \")\n",
        "        if pin == \"1234\":\n",
        "            return func()\n",
        "        else:\n",
        "            print(\"Wrong PIN!\")\n",
        "    return check_pin"
      ],
      "metadata": {
        "id": "ZFeRHjowS3m4"
      },
      "execution_count": null,
      "outputs": []
    },
    {
      "cell_type": "code",
      "source": [
        "@require_pin\n",
        "def transfer_money():\n",
        "    print(\"Money transferred!\")\n",
        "\n",
        "@require_pin\n",
        "def view_statement():\n",
        "    print(\"Showing bank statement...\")"
      ],
      "metadata": {
        "id": "Qa5EqS7rS6Nk"
      },
      "execution_count": null,
      "outputs": []
    },
    {
      "cell_type": "code",
      "source": [
        "transfer_money()"
      ],
      "metadata": {
        "colab": {
          "base_uri": "https://localhost:8080/"
        },
        "id": "NW83O8qFS7t7",
        "outputId": "8ae97b12-ef49-4dc6-a360-06e2242cb2d9"
      },
      "execution_count": null,
      "outputs": [
        {
          "output_type": "stream",
          "name": "stdout",
          "text": [
            "Enter PIN: 1234\n",
            "Money transferred!\n"
          ]
        }
      ]
    },
    {
      "cell_type": "code",
      "source": [
        "view_statement()"
      ],
      "metadata": {
        "colab": {
          "base_uri": "https://localhost:8080/"
        },
        "id": "kumQnzDITBoC",
        "outputId": "67e5c9d7-6a0b-4c96-b659-3eb408413179"
      },
      "execution_count": null,
      "outputs": [
        {
          "output_type": "stream",
          "name": "stdout",
          "text": [
            "Enter PIN: 1234\n",
            "Showing bank statement...\n"
          ]
        }
      ]
    },
    {
      "cell_type": "markdown",
      "source": [
        "## Typing extensions\n",
        "\n",
        "\n",
        "Python is dynamically typed, so normally you can pass anything. With typing, you document and guide what type is expected."
      ],
      "metadata": {
        "id": "ClPIbGUGKMQK"
      }
    },
    {
      "cell_type": "code",
      "source": [
        "def greet(name: str) -> str:\n",
        "    return f\"Hello, {name}!\""
      ],
      "metadata": {
        "id": "wjbrI-TKTXuH"
      },
      "execution_count": null,
      "outputs": []
    },
    {
      "cell_type": "code",
      "source": [
        "print(greet(\"Tarun\"))"
      ],
      "metadata": {
        "colab": {
          "base_uri": "https://localhost:8080/"
        },
        "id": "CwVNPaY8T7ep",
        "outputId": "7390cd57-e69c-4182-9b92-2b79d2950456"
      },
      "execution_count": null,
      "outputs": [
        {
          "output_type": "stream",
          "name": "stdout",
          "text": [
            "Hello, Tarun!\n"
          ]
        }
      ]
    },
    {
      "cell_type": "code",
      "source": [
        "def full_name(first: str, last: str) -> str:\n",
        "    return f\"{first} {last}\""
      ],
      "metadata": {
        "id": "z4bTwrKKT8Ck"
      },
      "execution_count": null,
      "outputs": []
    },
    {
      "cell_type": "code",
      "source": [
        "print(full_name(\"Tarun\", \"Jain\"))"
      ],
      "metadata": {
        "colab": {
          "base_uri": "https://localhost:8080/"
        },
        "id": "WxLZ61O-T_JR",
        "outputId": "47300b41-cefc-4607-fb93-f38500a5f9b5"
      },
      "execution_count": null,
      "outputs": [
        {
          "output_type": "stream",
          "name": "stdout",
          "text": [
            "Tarun Jain\n"
          ]
        }
      ]
    },
    {
      "cell_type": "markdown",
      "source": [
        "## Basic data types"
      ],
      "metadata": {
        "id": "LwNLmmzMMnYn"
      }
    },
    {
      "cell_type": "code",
      "source": [
        "from typing import List, Dict, Set, Tuple, Optional, Union"
      ],
      "metadata": {
        "id": "dMYiIT5CMonB"
      },
      "execution_count": null,
      "outputs": []
    },
    {
      "cell_type": "code",
      "source": [
        "def greet(name: Union[str, None]) -> str:\n",
        "    return f\"Hello, {name or 'Guest'}!\""
      ],
      "metadata": {
        "id": "-cv8rLzxMv2F"
      },
      "execution_count": null,
      "outputs": []
    },
    {
      "cell_type": "code",
      "source": [
        "greet(None)"
      ],
      "metadata": {
        "colab": {
          "base_uri": "https://localhost:8080/",
          "height": 35
        },
        "id": "EN0XaqV7Myl0",
        "outputId": "ae6a5314-84e1-4042-9fae-cba740bbb782"
      },
      "execution_count": null,
      "outputs": [
        {
          "output_type": "execute_result",
          "data": {
            "text/plain": [
              "'Hello, Guest!'"
            ],
            "application/vnd.google.colaboratory.intrinsic+json": {
              "type": "string"
            }
          },
          "metadata": {},
          "execution_count": 8
        }
      ]
    },
    {
      "cell_type": "code",
      "source": [
        "def total_bill(prices: List[int]) -> int:\n",
        "    return sum(prices)"
      ],
      "metadata": {
        "id": "3c_tzW2cYswV"
      },
      "execution_count": null,
      "outputs": []
    },
    {
      "cell_type": "code",
      "source": [
        "total_bill([100,200,2000])"
      ],
      "metadata": {
        "colab": {
          "base_uri": "https://localhost:8080/"
        },
        "id": "QB4MFZIHY0GH",
        "outputId": "9999f4ba-19db-4c68-8cc7-c6beff8dd90e"
      },
      "execution_count": null,
      "outputs": [
        {
          "output_type": "execute_result",
          "data": {
            "text/plain": [
              "2300"
            ]
          },
          "metadata": {},
          "execution_count": 11
        }
      ]
    },
    {
      "cell_type": "code",
      "source": [
        "line_item: Dict[int, str] = {\n",
        "    101: \"Perfume\",\n",
        "    102: \"Watch\",\n",
        "    103: \"Handbag\"\n",
        "}\n",
        "\n",
        "print(line_item[101])"
      ],
      "metadata": {
        "colab": {
          "base_uri": "https://localhost:8080/"
        },
        "id": "fYlAfhvzY0Ki",
        "outputId": "152161fa-34ed-494d-9264-5cc7416cbf5b"
      },
      "execution_count": null,
      "outputs": [
        {
          "output_type": "stream",
          "name": "stdout",
          "text": [
            "Perfume\n"
          ]
        }
      ]
    },
    {
      "cell_type": "code",
      "source": [
        "def create_completion(prompt: str, max_tokens: int = 1024, temperature: Optional[float] = None) -> str:\n",
        "    response = f\"Generated text for: {prompt}\"\n",
        "    return response"
      ],
      "metadata": {
        "id": "UDE_pWvPaPwB"
      },
      "execution_count": null,
      "outputs": []
    },
    {
      "cell_type": "code",
      "source": [
        "create_completion(\"what is the meaning of life?\")"
      ],
      "metadata": {
        "colab": {
          "base_uri": "https://localhost:8080/",
          "height": 35
        },
        "id": "U43pgIgRaVUi",
        "outputId": "b9af7af2-efb3-4199-b44c-d7da7f30314c"
      },
      "execution_count": null,
      "outputs": [
        {
          "output_type": "execute_result",
          "data": {
            "text/plain": [
              "'Generated text for: what is the meaning of life?'"
            ],
            "application/vnd.google.colaboratory.intrinsic+json": {
              "type": "string"
            }
          },
          "metadata": {},
          "execution_count": 21
        }
      ]
    },
    {
      "cell_type": "code",
      "source": [
        "from typing import TypeVar"
      ],
      "metadata": {
        "id": "Mx5N_mMTZfPW"
      },
      "execution_count": null,
      "outputs": []
    },
    {
      "cell_type": "code",
      "source": [
        "T = TypeVar(\"T\")  # T can be any type"
      ],
      "metadata": {
        "id": "HXAShUhGZgxO"
      },
      "execution_count": null,
      "outputs": []
    },
    {
      "cell_type": "code",
      "source": [
        "def identity(value: T) -> T:\n",
        "    return value"
      ],
      "metadata": {
        "id": "j0L8GbTfY9c1"
      },
      "execution_count": null,
      "outputs": []
    },
    {
      "cell_type": "code",
      "source": [
        "print(identity(10),type(identity(10)))\n",
        "print(identity(\"Tarun\"),type(identity(\"Tarun\")))"
      ],
      "metadata": {
        "colab": {
          "base_uri": "https://localhost:8080/"
        },
        "id": "prsMKZ1QY9fa",
        "outputId": "3fcf1075-2d29-4a5a-b101-5c89089dee0e"
      },
      "execution_count": null,
      "outputs": [
        {
          "output_type": "stream",
          "name": "stdout",
          "text": [
            "10 <class 'int'>\n",
            "Tarun <class 'str'>\n"
          ]
        }
      ]
    },
    {
      "cell_type": "markdown",
      "source": [
        "## Use your own type"
      ],
      "metadata": {
        "id": "B61d5MyHa4q_"
      }
    },
    {
      "cell_type": "code",
      "source": [
        "from typing_extensions import TypedDict"
      ],
      "metadata": {
        "id": "7C6wtRIJUI6g"
      },
      "execution_count": null,
      "outputs": []
    },
    {
      "cell_type": "code",
      "source": [
        "class AnimeCharacter(TypedDict):\n",
        "    name: str\n",
        "    anime: str\n",
        "    role: str"
      ],
      "metadata": {
        "id": "FSA7COYNUKHp"
      },
      "execution_count": null,
      "outputs": []
    },
    {
      "cell_type": "code",
      "source": [
        "def print_character(char: AnimeCharacter):\n",
        "    print(f\"{char['name']} is {char['role']} from the anime '{char['anime']}'.\")"
      ],
      "metadata": {
        "id": "EphoAo8LUijZ"
      },
      "execution_count": null,
      "outputs": []
    },
    {
      "cell_type": "code",
      "source": [
        "print_character({\"name\": \"Luffy\", \"anime\": \"One Piece\",\"role\":\"Captain of SH Pirates\"})"
      ],
      "metadata": {
        "colab": {
          "base_uri": "https://localhost:8080/"
        },
        "id": "VwEI4e_qUBWJ",
        "outputId": "331bf333-ce5f-4e0d-fd99-add4abd1c96e"
      },
      "execution_count": null,
      "outputs": [
        {
          "output_type": "stream",
          "name": "stdout",
          "text": [
            "Luffy is Captain of SH Pirates from the anime 'One Piece'.\n"
          ]
        }
      ]
    },
    {
      "cell_type": "code",
      "source": [
        "from typing_extensions import Annotated"
      ],
      "metadata": {
        "id": "GgV8o0syVH14"
      },
      "execution_count": null,
      "outputs": []
    },
    {
      "cell_type": "code",
      "source": [
        "def send_email(address: Annotated[str, \"must be a valid email\"]) -> None:\n",
        "    # useful when for FastAPI\n",
        "    print(f\"Sending email to {address}\")"
      ],
      "metadata": {
        "id": "wSO6QzEWVaRZ"
      },
      "execution_count": null,
      "outputs": []
    },
    {
      "cell_type": "code",
      "source": [
        "send_email(\"tarun@aiplanet.com\")"
      ],
      "metadata": {
        "colab": {
          "base_uri": "https://localhost:8080/"
        },
        "id": "JIEGgHcNVfqP",
        "outputId": "eb300ab1-1914-4e2c-f203-d05258309f9e"
      },
      "execution_count": null,
      "outputs": [
        {
          "output_type": "stream",
          "name": "stdout",
          "text": [
            "Sending email to tarun@aiplanet.com\n"
          ]
        }
      ]
    },
    {
      "cell_type": "code",
      "source": [
        "from typing_extensions import get_type_hints"
      ],
      "metadata": {
        "id": "xyO5bbOSWE85"
      },
      "execution_count": null,
      "outputs": []
    },
    {
      "cell_type": "code",
      "source": [
        "hints = get_type_hints(send_email, include_extras=True)\n",
        "print(hints)"
      ],
      "metadata": {
        "colab": {
          "base_uri": "https://localhost:8080/"
        },
        "id": "5NUnZy0GWIHx",
        "outputId": "c12165f6-aa63-4349-bf1f-929c5b6cac4d"
      },
      "execution_count": null,
      "outputs": [
        {
          "output_type": "stream",
          "name": "stdout",
          "text": [
            "{'address': typing.Annotated[str, 'must be a valid email'], 'return': <class 'NoneType'>}\n"
          ]
        }
      ]
    },
    {
      "cell_type": "markdown",
      "source": [
        "## Dataclasses and Pydantic models"
      ],
      "metadata": {
        "id": "ueA1MgIVKO37"
      }
    },
    {
      "cell_type": "markdown",
      "source": [
        "## Example of normal class"
      ],
      "metadata": {
        "id": "jCHoCsx5cegw"
      }
    },
    {
      "cell_type": "code",
      "source": [
        "class BankAccount:\n",
        "    def __init__(self, balance):\n",
        "        self.balance = balance\n",
        "\n",
        "    def deposit(self, amount):\n",
        "        if amount > 0:\n",
        "            self.balance += amount\n",
        "        return self.balance\n",
        "\n",
        "    def __repr__(self) -> str:\n",
        "        return f\"BankAccount(balance={self.balance})\""
      ],
      "metadata": {
        "id": "sns8DpCkcg06"
      },
      "execution_count": null,
      "outputs": []
    },
    {
      "cell_type": "code",
      "source": [
        "ba = BankAccount(100)"
      ],
      "metadata": {
        "id": "K7s1-3JNcn39"
      },
      "execution_count": null,
      "outputs": []
    },
    {
      "cell_type": "code",
      "source": [
        "ba # will take from __repr__"
      ],
      "metadata": {
        "colab": {
          "base_uri": "https://localhost:8080/"
        },
        "id": "HeRzpxbYcrAf",
        "outputId": "ee5eecfc-d79b-4799-9817-224b75233202"
      },
      "execution_count": null,
      "outputs": [
        {
          "output_type": "execute_result",
          "data": {
            "text/plain": [
              "BankAccount(balance=100)"
            ]
          },
          "metadata": {},
          "execution_count": 47
        }
      ]
    },
    {
      "cell_type": "code",
      "source": [
        "from dataclasses import dataclass"
      ],
      "metadata": {
        "id": "7jGIUR8A6TMM"
      },
      "execution_count": null,
      "outputs": []
    },
    {
      "cell_type": "code",
      "source": [
        "@dataclass\n",
        "class BankAccount:\n",
        "    name: str\n",
        "    balance: int\n",
        "\n",
        "    def deposit(self, amount: int) -> int:\n",
        "        self.balance += amount\n",
        "        return self.balance"
      ],
      "metadata": {
        "id": "Mx1AHE_p7OSs"
      },
      "execution_count": null,
      "outputs": []
    },
    {
      "cell_type": "code",
      "source": [
        "@dataclass\n",
        "class BankAccount:\n",
        "    name: str\n",
        "    __balance: int\n",
        "\n",
        "    def deposit(self, amount: int) -> int:\n",
        "        self.__balance += amount\n",
        "        return self.__balance\n",
        "\n",
        "    @property\n",
        "    def balance(self) -> int:\n",
        "        return self.__balance"
      ],
      "metadata": {
        "id": "T9s1TGCc6U6C"
      },
      "execution_count": null,
      "outputs": []
    },
    {
      "cell_type": "code",
      "source": [
        "ba1 = BankAccount(\"Tarun\", 5000)"
      ],
      "metadata": {
        "id": "OJ6us0Nn6XRR"
      },
      "execution_count": null,
      "outputs": []
    },
    {
      "cell_type": "code",
      "source": [
        "ba1.__dataclass_params__"
      ],
      "metadata": {
        "colab": {
          "base_uri": "https://localhost:8080/"
        },
        "id": "5ocPPDzY8dVj",
        "outputId": "759324b6-fb1b-435e-d013-aacc29a7f358"
      },
      "execution_count": null,
      "outputs": [
        {
          "output_type": "execute_result",
          "data": {
            "text/plain": [
              "_DataclassParams(init=True,repr=True,eq=True,order=False,unsafe_hash=False,frozen=False)"
            ]
          },
          "metadata": {},
          "execution_count": 53
        }
      ]
    },
    {
      "cell_type": "code",
      "source": [
        "ba1"
      ],
      "metadata": {
        "colab": {
          "base_uri": "https://localhost:8080/"
        },
        "id": "gFAoUg7ic8JX",
        "outputId": "49956a1f-8bc1-4912-d151-82287a0b414c"
      },
      "execution_count": null,
      "outputs": [
        {
          "output_type": "execute_result",
          "data": {
            "text/plain": [
              "BankAccount(name='Tarun', _BankAccount__balance=5000)"
            ]
          },
          "metadata": {},
          "execution_count": 54
        }
      ]
    },
    {
      "cell_type": "code",
      "source": [
        "ba.name"
      ],
      "metadata": {
        "colab": {
          "base_uri": "https://localhost:8080/",
          "height": 35
        },
        "id": "ks2vnmu6Mb3c",
        "outputId": "88d80ad3-74cc-4fd9-9efd-d84cbafc301b"
      },
      "execution_count": null,
      "outputs": [
        {
          "output_type": "execute_result",
          "data": {
            "text/plain": [
              "'Tarun'"
            ],
            "application/vnd.google.colaboratory.intrinsic+json": {
              "type": "string"
            }
          },
          "metadata": {},
          "execution_count": 55
        }
      ]
    },
    {
      "cell_type": "code",
      "source": [
        "ba.balance"
      ],
      "metadata": {
        "colab": {
          "base_uri": "https://localhost:8080/"
        },
        "id": "d_ILEapy6nr0",
        "outputId": "b6e19c95-d466-485a-f4db-776217b39e36"
      },
      "execution_count": null,
      "outputs": [
        {
          "output_type": "execute_result",
          "data": {
            "text/plain": [
              "5000"
            ]
          },
          "metadata": {},
          "execution_count": 56
        }
      ]
    },
    {
      "cell_type": "code",
      "source": [
        "ba.deposit(1000)"
      ],
      "metadata": {
        "colab": {
          "base_uri": "https://localhost:8080/"
        },
        "id": "PTTZzsCg615v",
        "outputId": "94cde41b-fd57-4871-d2f5-c1bf0315b94c"
      },
      "execution_count": null,
      "outputs": [
        {
          "output_type": "execute_result",
          "data": {
            "text/plain": [
              "6000"
            ]
          },
          "metadata": {},
          "execution_count": 57
        }
      ]
    },
    {
      "cell_type": "code",
      "source": [
        "ba.balance"
      ],
      "metadata": {
        "colab": {
          "base_uri": "https://localhost:8080/"
        },
        "id": "Rqaz-jB966v6",
        "outputId": "c8516730-d8c7-4062-f912-db3a2983b017"
      },
      "execution_count": null,
      "outputs": [
        {
          "output_type": "execute_result",
          "data": {
            "text/plain": [
              "6000"
            ]
          },
          "metadata": {},
          "execution_count": 58
        }
      ]
    },
    {
      "cell_type": "code",
      "source": [
        "from dataclasses import dataclass, field"
      ],
      "metadata": {
        "id": "E-ErACUM7y3A"
      },
      "execution_count": null,
      "outputs": []
    },
    {
      "cell_type": "code",
      "source": [
        "@dataclass\n",
        "class Product:\n",
        "    name: str\n",
        "    price: float\n",
        "    description: str = field(default=\"No description\")\n",
        "    in_stock: bool = field(default=True)\n",
        "    quantity: int = field(default=0)"
      ],
      "metadata": {
        "id": "7Bk5PtMY7Suh"
      },
      "execution_count": null,
      "outputs": []
    },
    {
      "cell_type": "code",
      "source": [
        "product = Product(\"Laptop\", 999.99)\n",
        "print(product)"
      ],
      "metadata": {
        "colab": {
          "base_uri": "https://localhost:8080/"
        },
        "id": "pbJIIY2K7fD3",
        "outputId": "ebc3a361-20cb-4c7d-e9b0-86d4bb73dfc0"
      },
      "execution_count": null,
      "outputs": [
        {
          "output_type": "stream",
          "name": "stdout",
          "text": [
            "Product(name='Laptop', price=999.99, description='No description', in_stock=True, quantity=0)\n"
          ]
        }
      ]
    },
    {
      "cell_type": "code",
      "source": [
        "@dataclass\n",
        "class Cart:\n",
        "    items: List[str] = field(default_factory=list)"
      ],
      "metadata": {
        "id": "MajE1vYk7j4M"
      },
      "execution_count": null,
      "outputs": []
    },
    {
      "cell_type": "code",
      "source": [
        "@dataclass(frozen=True) #read-only after creation\n",
        "class InvoiceItem:\n",
        "    name: str\n",
        "    price: float\n",
        "    quantity: int"
      ],
      "metadata": {
        "id": "33eY23bIdHaM"
      },
      "execution_count": null,
      "outputs": []
    },
    {
      "cell_type": "code",
      "source": [
        "item = InvoiceItem(\"Perfume\", 120.0, 2)"
      ],
      "metadata": {
        "id": "QA9HeOaQdPas"
      },
      "execution_count": null,
      "outputs": []
    },
    {
      "cell_type": "code",
      "source": [
        "item.__dataclass_params__"
      ],
      "metadata": {
        "colab": {
          "base_uri": "https://localhost:8080/"
        },
        "id": "cHrVdf38iR3d",
        "outputId": "7778d9ad-d23a-4d92-8e93-54154f1c0dd7"
      },
      "execution_count": null,
      "outputs": [
        {
          "output_type": "execute_result",
          "data": {
            "text/plain": [
              "_DataclassParams(init=True,repr=True,eq=True,order=False,unsafe_hash=False,frozen=True)"
            ]
          },
          "metadata": {},
          "execution_count": 98
        }
      ]
    },
    {
      "cell_type": "code",
      "source": [
        "item.price = 150.0 # frozen = immutable"
      ],
      "metadata": {
        "colab": {
          "base_uri": "https://localhost:8080/",
          "height": 176
        },
        "id": "qFOlrbpedVKJ",
        "outputId": "97395a2d-ad31-4e5b-f663-76a7fda91886"
      },
      "execution_count": null,
      "outputs": [
        {
          "output_type": "error",
          "ename": "FrozenInstanceError",
          "evalue": "cannot assign to field 'price'",
          "traceback": [
            "\u001b[0;31m---------------------------------------------------------------------------\u001b[0m",
            "\u001b[0;31mFrozenInstanceError\u001b[0m                       Traceback (most recent call last)",
            "\u001b[0;32m/tmp/ipython-input-673187840.py\u001b[0m in \u001b[0;36m<cell line: 0>\u001b[0;34m()\u001b[0m\n\u001b[0;32m----> 1\u001b[0;31m \u001b[0mitem\u001b[0m\u001b[0;34m.\u001b[0m\u001b[0mprice\u001b[0m \u001b[0;34m=\u001b[0m \u001b[0;36m150.0\u001b[0m \u001b[0;31m# frozen = immutable\u001b[0m\u001b[0;34m\u001b[0m\u001b[0;34m\u001b[0m\u001b[0m\n\u001b[0m",
            "\u001b[0;32m<string>\u001b[0m in \u001b[0;36m__setattr__\u001b[0;34m(self, name, value)\u001b[0m\n",
            "\u001b[0;31mFrozenInstanceError\u001b[0m: cannot assign to field 'price'"
          ]
        }
      ]
    },
    {
      "cell_type": "code",
      "source": [
        "item.price"
      ],
      "metadata": {
        "colab": {
          "base_uri": "https://localhost:8080/"
        },
        "id": "Cc6z-n4-dp5d",
        "outputId": "42bf0463-f846-4b6f-a56b-61bd00d704af"
      },
      "execution_count": null,
      "outputs": [
        {
          "output_type": "execute_result",
          "data": {
            "text/plain": [
              "120.0"
            ]
          },
          "metadata": {},
          "execution_count": 70
        }
      ]
    },
    {
      "cell_type": "markdown",
      "source": [
        "## Pydantic"
      ],
      "metadata": {
        "id": "DX4QBPiwdtY9"
      }
    },
    {
      "cell_type": "markdown",
      "source": [
        "Python typing is just hints → not enforced at runtime.\n",
        "\n",
        "Pydantic validates data at runtime and ensures types are correct."
      ],
      "metadata": {
        "id": "R8evmr-3emNo"
      }
    },
    {
      "cell_type": "code",
      "source": [
        "from typing import List\n",
        "\n",
        "def prices(prices: List[float]) -> float:\n",
        "    return prices"
      ],
      "metadata": {
        "id": "Cf0EiLsyduk8"
      },
      "execution_count": null,
      "outputs": []
    },
    {
      "cell_type": "code",
      "source": [
        "prices([100.0, \"200\", 300.0])"
      ],
      "metadata": {
        "colab": {
          "base_uri": "https://localhost:8080/"
        },
        "id": "xEgXVJGrf6uC",
        "outputId": "78ea66f7-61f4-4ef6-ab28-e833bbc15609"
      },
      "execution_count": null,
      "outputs": [
        {
          "output_type": "execute_result",
          "data": {
            "text/plain": [
              "[100.0, '200', 300.0]"
            ]
          },
          "metadata": {},
          "execution_count": 81
        }
      ]
    },
    {
      "cell_type": "code",
      "source": [
        "from pydantic import BaseModel\n",
        "from typing import List"
      ],
      "metadata": {
        "id": "Igp1qiiEgpfg"
      },
      "execution_count": null,
      "outputs": []
    },
    {
      "cell_type": "code",
      "source": [
        "class Invoice(BaseModel):\n",
        "    prices: List[float]"
      ],
      "metadata": {
        "id": "vAFceyxVgqn4"
      },
      "execution_count": null,
      "outputs": []
    },
    {
      "cell_type": "code",
      "source": [
        "invoice = Invoice(prices=[100.0, \"200\", 300.0])"
      ],
      "metadata": {
        "id": "uGQg6ihcgr43"
      },
      "execution_count": null,
      "outputs": []
    },
    {
      "cell_type": "code",
      "source": [
        "print(invoice.prices)"
      ],
      "metadata": {
        "colab": {
          "base_uri": "https://localhost:8080/"
        },
        "id": "AYODSs3TgAEd",
        "outputId": "4e5e1f68-7789-40c9-d015-788fc57b72f6"
      },
      "execution_count": null,
      "outputs": [
        {
          "output_type": "stream",
          "name": "stdout",
          "text": [
            "[100.0, 200.0, 300.0]\n"
          ]
        }
      ]
    },
    {
      "cell_type": "code",
      "source": [
        "class User(BaseModel):\n",
        "    id: int\n",
        "    name: str\n",
        "    email: str"
      ],
      "metadata": {
        "id": "xLzr8BKog53I"
      },
      "execution_count": null,
      "outputs": []
    },
    {
      "cell_type": "code",
      "source": [
        "user = User(id=1, name=\"Tarun\", email=\"tarun@aiplanet.com\")\n",
        "print(user)"
      ],
      "metadata": {
        "colab": {
          "base_uri": "https://localhost:8080/"
        },
        "id": "VuEgjMUrhUa4",
        "outputId": "e31f76cd-dc74-439e-c79b-9a193ca94fa8"
      },
      "execution_count": null,
      "outputs": [
        {
          "output_type": "stream",
          "name": "stdout",
          "text": [
            "id=1 name='Tarun' email='tarun@aiplanet.com'\n"
          ]
        }
      ]
    },
    {
      "cell_type": "code",
      "source": [
        "user2 = User(id=\"abc123\", name=\"Raj\", email=\"new@check.com\")"
      ],
      "metadata": {
        "colab": {
          "base_uri": "https://localhost:8080/",
          "height": 367
        },
        "id": "O6eAMmFchirp",
        "outputId": "67a5de72-7214-4340-d7a8-0cb45216528e"
      },
      "execution_count": null,
      "outputs": [
        {
          "output_type": "error",
          "ename": "ValidationError",
          "evalue": "1 validation error for User\nid\n  Input should be a valid integer, unable to parse string as an integer [type=int_parsing, input_value='abc123', input_type=str]\n    For further information visit https://errors.pydantic.dev/2.11/v/int_parsing",
          "traceback": [
            "\u001b[0;31m---------------------------------------------------------------------------\u001b[0m",
            "\u001b[0;31mValidationError\u001b[0m                           Traceback (most recent call last)",
            "\u001b[0;32m/tmp/ipython-input-3025664415.py\u001b[0m in \u001b[0;36m<cell line: 0>\u001b[0;34m()\u001b[0m\n\u001b[0;32m----> 1\u001b[0;31m \u001b[0muser2\u001b[0m \u001b[0;34m=\u001b[0m \u001b[0mUser\u001b[0m\u001b[0;34m(\u001b[0m\u001b[0mid\u001b[0m\u001b[0;34m=\u001b[0m\u001b[0;34m\"abc123\"\u001b[0m\u001b[0;34m,\u001b[0m \u001b[0mname\u001b[0m\u001b[0;34m=\u001b[0m\u001b[0;34m\"Raj\"\u001b[0m\u001b[0;34m,\u001b[0m \u001b[0memail\u001b[0m\u001b[0;34m=\u001b[0m\u001b[0;34m\"new@check.com\"\u001b[0m\u001b[0;34m)\u001b[0m\u001b[0;34m\u001b[0m\u001b[0;34m\u001b[0m\u001b[0m\n\u001b[0m",
            "\u001b[0;32m/usr/local/lib/python3.11/dist-packages/pydantic/main.py\u001b[0m in \u001b[0;36m__init__\u001b[0;34m(self, **data)\u001b[0m\n\u001b[1;32m    251\u001b[0m         \u001b[0;31m# `__tracebackhide__` tells pytest and some other tools to omit this function from tracebacks\u001b[0m\u001b[0;34m\u001b[0m\u001b[0;34m\u001b[0m\u001b[0m\n\u001b[1;32m    252\u001b[0m         \u001b[0m__tracebackhide__\u001b[0m \u001b[0;34m=\u001b[0m \u001b[0;32mTrue\u001b[0m\u001b[0;34m\u001b[0m\u001b[0;34m\u001b[0m\u001b[0m\n\u001b[0;32m--> 253\u001b[0;31m         \u001b[0mvalidated_self\u001b[0m \u001b[0;34m=\u001b[0m \u001b[0mself\u001b[0m\u001b[0;34m.\u001b[0m\u001b[0m__pydantic_validator__\u001b[0m\u001b[0;34m.\u001b[0m\u001b[0mvalidate_python\u001b[0m\u001b[0;34m(\u001b[0m\u001b[0mdata\u001b[0m\u001b[0;34m,\u001b[0m \u001b[0mself_instance\u001b[0m\u001b[0;34m=\u001b[0m\u001b[0mself\u001b[0m\u001b[0;34m)\u001b[0m\u001b[0;34m\u001b[0m\u001b[0;34m\u001b[0m\u001b[0m\n\u001b[0m\u001b[1;32m    254\u001b[0m         \u001b[0;32mif\u001b[0m \u001b[0mself\u001b[0m \u001b[0;32mis\u001b[0m \u001b[0;32mnot\u001b[0m \u001b[0mvalidated_self\u001b[0m\u001b[0;34m:\u001b[0m\u001b[0;34m\u001b[0m\u001b[0;34m\u001b[0m\u001b[0m\n\u001b[1;32m    255\u001b[0m             warnings.warn(\n",
            "\u001b[0;31mValidationError\u001b[0m: 1 validation error for User\nid\n  Input should be a valid integer, unable to parse string as an integer [type=int_parsing, input_value='abc123', input_type=str]\n    For further information visit https://errors.pydantic.dev/2.11/v/int_parsing"
          ]
        }
      ]
    },
    {
      "cell_type": "code",
      "source": [
        "from pydantic import BaseModel, Field"
      ],
      "metadata": {
        "id": "pAAq4m_2hp2O"
      },
      "execution_count": null,
      "outputs": []
    },
    {
      "cell_type": "code",
      "source": [
        "class Customer(BaseModel):\n",
        "    id: int = Field(..., gt=0)   # must be > 0\n",
        "    name: str = Field(..., min_length=2, max_length=50)\n",
        "    age: int = Field(default=18, ge=18, le=100)  # default=18, must be 18–100\n",
        "    email: str = Field(..., pattern=r'^\\S+@\\S+\\.\\S+$')"
      ],
      "metadata": {
        "id": "-xnWl37Wh1SU"
      },
      "execution_count": null,
      "outputs": []
    },
    {
      "cell_type": "code",
      "source": [
        "cus = Customer(id=1,name=\"Tarun\",email=\"tarun@aiplanet.com\",age=12) # should be more than 12"
      ],
      "metadata": {
        "colab": {
          "base_uri": "https://localhost:8080/",
          "height": 367
        },
        "id": "1GU15RB7h6l5",
        "outputId": "693c05c5-9377-47e0-f03f-77787b0a1d4b"
      },
      "execution_count": null,
      "outputs": [
        {
          "output_type": "error",
          "ename": "ValidationError",
          "evalue": "1 validation error for Customer\nage\n  Input should be greater than or equal to 18 [type=greater_than_equal, input_value=12, input_type=int]\n    For further information visit https://errors.pydantic.dev/2.11/v/greater_than_equal",
          "traceback": [
            "\u001b[0;31m---------------------------------------------------------------------------\u001b[0m",
            "\u001b[0;31mValidationError\u001b[0m                           Traceback (most recent call last)",
            "\u001b[0;32m/tmp/ipython-input-3406505427.py\u001b[0m in \u001b[0;36m<cell line: 0>\u001b[0;34m()\u001b[0m\n\u001b[0;32m----> 1\u001b[0;31m \u001b[0mcus\u001b[0m \u001b[0;34m=\u001b[0m \u001b[0mCustomer\u001b[0m\u001b[0;34m(\u001b[0m\u001b[0mid\u001b[0m\u001b[0;34m=\u001b[0m\u001b[0;36m1\u001b[0m\u001b[0;34m,\u001b[0m\u001b[0mname\u001b[0m\u001b[0;34m=\u001b[0m\u001b[0;34m\"Tarun\"\u001b[0m\u001b[0;34m,\u001b[0m\u001b[0memail\u001b[0m\u001b[0;34m=\u001b[0m\u001b[0;34m\"tarun@aiplanet.com\"\u001b[0m\u001b[0;34m,\u001b[0m\u001b[0mage\u001b[0m\u001b[0;34m=\u001b[0m\u001b[0;36m12\u001b[0m\u001b[0;34m)\u001b[0m\u001b[0;34m\u001b[0m\u001b[0;34m\u001b[0m\u001b[0m\n\u001b[0m",
            "\u001b[0;32m/usr/local/lib/python3.11/dist-packages/pydantic/main.py\u001b[0m in \u001b[0;36m__init__\u001b[0;34m(self, **data)\u001b[0m\n\u001b[1;32m    251\u001b[0m         \u001b[0;31m# `__tracebackhide__` tells pytest and some other tools to omit this function from tracebacks\u001b[0m\u001b[0;34m\u001b[0m\u001b[0;34m\u001b[0m\u001b[0m\n\u001b[1;32m    252\u001b[0m         \u001b[0m__tracebackhide__\u001b[0m \u001b[0;34m=\u001b[0m \u001b[0;32mTrue\u001b[0m\u001b[0;34m\u001b[0m\u001b[0;34m\u001b[0m\u001b[0m\n\u001b[0;32m--> 253\u001b[0;31m         \u001b[0mvalidated_self\u001b[0m \u001b[0;34m=\u001b[0m \u001b[0mself\u001b[0m\u001b[0;34m.\u001b[0m\u001b[0m__pydantic_validator__\u001b[0m\u001b[0;34m.\u001b[0m\u001b[0mvalidate_python\u001b[0m\u001b[0;34m(\u001b[0m\u001b[0mdata\u001b[0m\u001b[0;34m,\u001b[0m \u001b[0mself_instance\u001b[0m\u001b[0;34m=\u001b[0m\u001b[0mself\u001b[0m\u001b[0;34m)\u001b[0m\u001b[0;34m\u001b[0m\u001b[0;34m\u001b[0m\u001b[0m\n\u001b[0m\u001b[1;32m    254\u001b[0m         \u001b[0;32mif\u001b[0m \u001b[0mself\u001b[0m \u001b[0;32mis\u001b[0m \u001b[0;32mnot\u001b[0m \u001b[0mvalidated_self\u001b[0m\u001b[0;34m:\u001b[0m\u001b[0;34m\u001b[0m\u001b[0;34m\u001b[0m\u001b[0m\n\u001b[1;32m    255\u001b[0m             warnings.warn(\n",
            "\u001b[0;31mValidationError\u001b[0m: 1 validation error for Customer\nage\n  Input should be greater than or equal to 18 [type=greater_than_equal, input_value=12, input_type=int]\n    For further information visit https://errors.pydantic.dev/2.11/v/greater_than_equal"
          ]
        }
      ]
    },
    {
      "cell_type": "markdown",
      "source": [
        "## Meta classes"
      ],
      "metadata": {
        "id": "86NTFyffLerA"
      }
    },
    {
      "cell_type": "markdown",
      "source": [
        "A metaclass is the \"class of a class\""
      ],
      "metadata": {
        "id": "wHM2q_jP9FmV"
      }
    },
    {
      "cell_type": "code",
      "source": [
        "x = 42\n",
        "print(type(x))"
      ],
      "metadata": {
        "colab": {
          "base_uri": "https://localhost:8080/"
        },
        "id": "9uyx0jQZisPd",
        "outputId": "bcd017bf-37af-4b7c-b275-edcd0a87e97f"
      },
      "execution_count": null,
      "outputs": [
        {
          "output_type": "stream",
          "name": "stdout",
          "text": [
            "<class 'int'>\n"
          ]
        }
      ]
    },
    {
      "cell_type": "code",
      "source": [
        "class MyMeta(type):\n",
        "    def __new__(cls, name, bases, attrs):\n",
        "        print(\"cls:\", cls)       # The metaclass itself (usually 'MyMeta')\n",
        "        print(\"name:\", name)     # Name of the new class being created\n",
        "        print(\"bases:\", bases)   # Tuple of parent classes\n",
        "        print(\"attrs:\", attrs)   # Dict of attributes defined in the class body\n",
        "        return super().__new__(cls, name, bases, attrs)"
      ],
      "metadata": {
        "id": "PVYO33CIkfrD"
      },
      "execution_count": null,
      "outputs": []
    },
    {
      "cell_type": "code",
      "source": [
        "class Example(metaclass=MyMeta):\n",
        "    x = 10\n",
        "\n",
        "    def hello(self):\n",
        "      return \"hi\""
      ],
      "metadata": {
        "colab": {
          "base_uri": "https://localhost:8080/"
        },
        "id": "-_w-5KwWkft4",
        "outputId": "98279e5d-bf38-4467-ad12-1a69ca094de1"
      },
      "execution_count": null,
      "outputs": [
        {
          "output_type": "stream",
          "name": "stdout",
          "text": [
            "cls: <class '__main__.MyMeta'>\n",
            "name: Example\n",
            "bases: ()\n",
            "attrs: {'__module__': '__main__', '__qualname__': 'Example', 'x': 10, 'hello': <function Example.hello at 0x7a7a621ecea0>}\n"
          ]
        }
      ]
    },
    {
      "cell_type": "code",
      "source": [
        "run = Example()"
      ],
      "metadata": {
        "id": "arw5c0zXkt8l"
      },
      "execution_count": null,
      "outputs": []
    },
    {
      "cell_type": "code",
      "source": [
        "run.x"
      ],
      "metadata": {
        "colab": {
          "base_uri": "https://localhost:8080/"
        },
        "id": "nqeIMUYvkwFU",
        "outputId": "f1042b18-1c08-4a5b-e288-6d551362886b"
      },
      "execution_count": null,
      "outputs": [
        {
          "output_type": "execute_result",
          "data": {
            "text/plain": [
              "10"
            ]
          },
          "metadata": {},
          "execution_count": 106
        }
      ]
    },
    {
      "cell_type": "code",
      "source": [
        "run.hello()"
      ],
      "metadata": {
        "colab": {
          "base_uri": "https://localhost:8080/",
          "height": 35
        },
        "id": "RTSsA3CLkxd4",
        "outputId": "33cb858b-6fd3-4a96-e1c2-1a530fcc86b9"
      },
      "execution_count": null,
      "outputs": [
        {
          "output_type": "execute_result",
          "data": {
            "text/plain": [
              "'hi'"
            ],
            "application/vnd.google.colaboratory.intrinsic+json": {
              "type": "string"
            }
          },
          "metadata": {},
          "execution_count": 107
        }
      ]
    },
    {
      "cell_type": "code",
      "source": [
        "class Animal:\n",
        "    def greet(self):\n",
        "        print(\"Makes sound\")\n",
        "\n",
        "class MyMeta(type):\n",
        "    def __new__(cls, name, bases, attrs):\n",
        "        print(\"cls:\", cls)\n",
        "        print(\"name:\", name)\n",
        "        print(\"bases:\", bases)   # Non-empty if inheritance\n",
        "        print(\"attrs:\", attrs)\n",
        "        return super().__new__(cls, name, bases, attrs)\n",
        "\n",
        "class Dog(Animal, metaclass=MyMeta):\n",
        "    def greet(self):\n",
        "        print(\"Bark!\")\n",
        "\n",
        "    def eats(self):\n",
        "        print(\"Eats biscuit\")"
      ],
      "metadata": {
        "colab": {
          "base_uri": "https://localhost:8080/"
        },
        "id": "9RphPCwhkfwf",
        "outputId": "e348c6f7-2986-47c1-e799-399d86c1e580"
      },
      "execution_count": null,
      "outputs": [
        {
          "output_type": "stream",
          "name": "stdout",
          "text": [
            "cls: <class '__main__.MyMeta'>\n",
            "name: Dog\n",
            "bases: (<class '__main__.Animal'>,)\n",
            "attrs: {'__module__': '__main__', '__qualname__': 'Dog', 'greet': <function Dog.greet at 0x7a7a62284400>, 'eats': <function Dog.eats at 0x7a7a62316c00>}\n"
          ]
        }
      ]
    },
    {
      "cell_type": "code",
      "source": [
        "c = Dog()\n",
        "c.greet()\n",
        "c.eats()"
      ],
      "metadata": {
        "colab": {
          "base_uri": "https://localhost:8080/"
        },
        "id": "qEq5LD2rkfy0",
        "outputId": "7ebe7f20-b16f-4733-9faa-1a8ebf1db04b"
      },
      "execution_count": null,
      "outputs": [
        {
          "output_type": "stream",
          "name": "stdout",
          "text": [
            "Bark!\n",
            "Eats biscuit\n"
          ]
        }
      ]
    },
    {
      "cell_type": "code",
      "source": [
        "class ProductMeta(type):\n",
        "    def __new__(cls, name, bases, dct):\n",
        "        # when a new class is created, check if \"price\" is defined\n",
        "        if \"price\" not in dct:\n",
        "            raise TypeError(f\"{name} class must define a 'price' attribute\")\n",
        "        return super().__new__(cls, name, bases, dct)"
      ],
      "metadata": {
        "id": "trjQUkpA9aGo"
      },
      "execution_count": null,
      "outputs": []
    },
    {
      "cell_type": "code",
      "source": [
        "class Product(metaclass=ProductMeta):\n",
        "    name: str = \"Laptop\"\n",
        "    price: float = 1000"
      ],
      "metadata": {
        "id": "3pmsY03i9uut"
      },
      "execution_count": null,
      "outputs": []
    },
    {
      "cell_type": "code",
      "source": [
        "class BrokenProduct(metaclass=ProductMeta):\n",
        "    name: str = \"NoPrice\"\n",
        "    # no price - error"
      ],
      "metadata": {
        "colab": {
          "base_uri": "https://localhost:8080/",
          "height": 263
        },
        "id": "Rgsm9K0-8zu5",
        "outputId": "8a3f9041-bdce-41f0-cf3c-8f873ac3d1e4"
      },
      "execution_count": null,
      "outputs": [
        {
          "output_type": "error",
          "ename": "TypeError",
          "evalue": "BrokenProduct class must define a 'price' attribute",
          "traceback": [
            "\u001b[0;31m---------------------------------------------------------------------------\u001b[0m",
            "\u001b[0;31mTypeError\u001b[0m                                 Traceback (most recent call last)",
            "\u001b[0;32m/tmp/ipython-input-2344014356.py\u001b[0m in \u001b[0;36m<cell line: 0>\u001b[0;34m()\u001b[0m\n\u001b[0;32m----> 1\u001b[0;31m \u001b[0;32mclass\u001b[0m \u001b[0mBrokenProduct\u001b[0m\u001b[0;34m(\u001b[0m\u001b[0mmetaclass\u001b[0m\u001b[0;34m=\u001b[0m\u001b[0mProductMeta\u001b[0m\u001b[0;34m)\u001b[0m\u001b[0;34m:\u001b[0m\u001b[0;34m\u001b[0m\u001b[0;34m\u001b[0m\u001b[0m\n\u001b[0m\u001b[1;32m      2\u001b[0m     \u001b[0mname\u001b[0m\u001b[0;34m:\u001b[0m \u001b[0mstr\u001b[0m \u001b[0;34m=\u001b[0m \u001b[0;34m\"NoPrice\"\u001b[0m\u001b[0;34m\u001b[0m\u001b[0;34m\u001b[0m\u001b[0m\n",
            "\u001b[0;32m/tmp/ipython-input-3040192080.py\u001b[0m in \u001b[0;36m__new__\u001b[0;34m(cls, name, bases, dct)\u001b[0m\n\u001b[1;32m      3\u001b[0m         \u001b[0;31m# when a new class is created, check if \"price\" is defined\u001b[0m\u001b[0;34m\u001b[0m\u001b[0;34m\u001b[0m\u001b[0m\n\u001b[1;32m      4\u001b[0m         \u001b[0;32mif\u001b[0m \u001b[0;34m\"price\"\u001b[0m \u001b[0;32mnot\u001b[0m \u001b[0;32min\u001b[0m \u001b[0mdct\u001b[0m\u001b[0;34m:\u001b[0m\u001b[0;34m\u001b[0m\u001b[0;34m\u001b[0m\u001b[0m\n\u001b[0;32m----> 5\u001b[0;31m             \u001b[0;32mraise\u001b[0m \u001b[0mTypeError\u001b[0m\u001b[0;34m(\u001b[0m\u001b[0;34mf\"{name} class must define a 'price' attribute\"\u001b[0m\u001b[0;34m)\u001b[0m\u001b[0;34m\u001b[0m\u001b[0;34m\u001b[0m\u001b[0m\n\u001b[0m\u001b[1;32m      6\u001b[0m         \u001b[0;32mreturn\u001b[0m \u001b[0msuper\u001b[0m\u001b[0;34m(\u001b[0m\u001b[0;34m)\u001b[0m\u001b[0;34m.\u001b[0m\u001b[0m__new__\u001b[0m\u001b[0;34m(\u001b[0m\u001b[0mcls\u001b[0m\u001b[0;34m,\u001b[0m \u001b[0mname\u001b[0m\u001b[0;34m,\u001b[0m \u001b[0mbases\u001b[0m\u001b[0;34m,\u001b[0m \u001b[0mdct\u001b[0m\u001b[0;34m)\u001b[0m\u001b[0;34m\u001b[0m\u001b[0;34m\u001b[0m\u001b[0m\n",
            "\u001b[0;31mTypeError\u001b[0m: BrokenProduct class must define a 'price' attribute"
          ]
        }
      ]
    }
  ]
}