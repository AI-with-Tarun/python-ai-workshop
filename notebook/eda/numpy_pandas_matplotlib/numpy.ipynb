{
  "nbformat": 4,
  "nbformat_minor": 0,
  "metadata": {
    "colab": {
      "provenance": []
    },
    "kernelspec": {
      "name": "python3",
      "display_name": "Python 3"
    },
    "language_info": {
      "name": "python"
    }
  },
  "cells": [
    {
      "cell_type": "markdown",
      "source": [
        "## Numpy"
      ],
      "metadata": {
        "id": "HvnBzb6jXEEb"
      }
    },
    {
      "cell_type": "code",
      "execution_count": null,
      "metadata": {
        "id": "LmezV1y6CP0y"
      },
      "outputs": [],
      "source": [
        "import numpy as np # pip install numpy"
      ]
    },
    {
      "cell_type": "code",
      "source": [
        "#dir(np)"
      ],
      "metadata": {
        "id": "nUU2Yb1mPeqE"
      },
      "execution_count": null,
      "outputs": []
    },
    {
      "cell_type": "code",
      "source": [
        "list(range(0,10)) # seq"
      ],
      "metadata": {
        "colab": {
          "base_uri": "https://localhost:8080/"
        },
        "id": "ZWE_D2fcEiRA",
        "outputId": "dd49825c-0d11-4ca9-b28d-fcfa44a0982f"
      },
      "execution_count": null,
      "outputs": [
        {
          "output_type": "execute_result",
          "data": {
            "text/plain": [
              "[0, 1, 2, 3, 4, 5, 6, 7, 8, 9]"
            ]
          },
          "metadata": {},
          "execution_count": 7
        }
      ]
    },
    {
      "cell_type": "code",
      "source": [
        "arr_ran = np.arange(0,10,1) # (0,10)# 0 to 9\n",
        "arr_ran"
      ],
      "metadata": {
        "colab": {
          "base_uri": "https://localhost:8080/"
        },
        "id": "uXcVny4NXHdm",
        "outputId": "93b942d3-fdbb-45cb-8afe-c59d87bf8ae5"
      },
      "execution_count": null,
      "outputs": [
        {
          "output_type": "execute_result",
          "data": {
            "text/plain": [
              "array([0, 1, 2, 3, 4, 5, 6, 7, 8, 9])"
            ]
          },
          "metadata": {},
          "execution_count": 8
        }
      ]
    },
    {
      "cell_type": "code",
      "source": [
        "type(arr_ran)"
      ],
      "metadata": {
        "colab": {
          "base_uri": "https://localhost:8080/"
        },
        "id": "BOFHx61LEoUf",
        "outputId": "53c718ac-7a95-49f7-c205-b35b2ad3e9d5"
      },
      "execution_count": null,
      "outputs": [
        {
          "output_type": "execute_result",
          "data": {
            "text/plain": [
              "numpy.ndarray"
            ]
          },
          "metadata": {},
          "execution_count": 9
        }
      ]
    },
    {
      "cell_type": "markdown",
      "source": [
        "# how to check length of the array\n",
        "\n",
        "- to count the number of elements within the array\n",
        "- to count the total dimension of the data"
      ],
      "metadata": {
        "id": "xaTzwJbyEtdZ"
      }
    },
    {
      "cell_type": "code",
      "source": [
        "list(range(0,10))"
      ],
      "metadata": {
        "id": "K187GKEBE5qI"
      },
      "execution_count": null,
      "outputs": []
    },
    {
      "cell_type": "code",
      "source": [
        "arr = np.array(range(1,10))\n",
        "print(\"Length:\",len(arr))\n",
        "print(\"Size:\",arr.size)"
      ],
      "metadata": {
        "colab": {
          "base_uri": "https://localhost:8080/"
        },
        "id": "MBWmSdWuXKVw",
        "outputId": "8744ea83-ae21-46de-fffe-9ad0f7348561"
      },
      "execution_count": null,
      "outputs": [
        {
          "output_type": "stream",
          "name": "stdout",
          "text": [
            "Length: 9\n",
            "Size: 9\n"
          ]
        }
      ]
    },
    {
      "cell_type": "code",
      "source": [
        "arr"
      ],
      "metadata": {
        "colab": {
          "base_uri": "https://localhost:8080/"
        },
        "id": "AaoLzpn2FCx-",
        "outputId": "7ac6ca03-a805-4798-964b-b994481a47c2"
      },
      "execution_count": null,
      "outputs": [
        {
          "output_type": "execute_result",
          "data": {
            "text/plain": [
              "array([1, 2, 3, 4, 5, 6, 7, 8, 9])"
            ]
          },
          "metadata": {},
          "execution_count": 14
        }
      ]
    },
    {
      "cell_type": "code",
      "source": [
        "arr = np.array([range(1,10),range(1,10)])\n",
        "print(\"Length:\",len(arr))\n",
        "print(\"Size:\",arr.size)"
      ],
      "metadata": {
        "colab": {
          "base_uri": "https://localhost:8080/"
        },
        "id": "p7yXFVCvXL3q",
        "outputId": "21ff6df6-49ac-4833-f1a6-d47928843a16"
      },
      "execution_count": null,
      "outputs": [
        {
          "output_type": "stream",
          "name": "stdout",
          "text": [
            "Length: 2\n",
            "Size: 18\n"
          ]
        }
      ]
    },
    {
      "cell_type": "code",
      "source": [
        "arr"
      ],
      "metadata": {
        "colab": {
          "base_uri": "https://localhost:8080/"
        },
        "id": "D9PUMZvmFIY1",
        "outputId": "703b7049-6b74-4b54-adde-44e83ef88be0"
      },
      "execution_count": null,
      "outputs": [
        {
          "output_type": "execute_result",
          "data": {
            "text/plain": [
              "array([[1, 2, 3, 4, 5, 6, 7, 8, 9],\n",
              "       [1, 2, 3, 4, 5, 6, 7, 8, 9]])"
            ]
          },
          "metadata": {},
          "execution_count": 24
        }
      ]
    },
    {
      "cell_type": "markdown",
      "source": [
        "- np.array\n",
        "- ndim\n",
        "- size"
      ],
      "metadata": {
        "id": "xZhSYD5cGgdD"
      }
    },
    {
      "cell_type": "code",
      "source": [
        "arr2d = np.array([\n",
        "    [[1,2,3],[4,5,6]],\n",
        "     [[5,6,7],[8,9,10]\n",
        "]])\n",
        "print(arr2d.size)"
      ],
      "metadata": {
        "colab": {
          "base_uri": "https://localhost:8080/"
        },
        "id": "U16hHecxGBKs",
        "outputId": "6ccee6f4-bfbc-429d-90d0-b6dccf056d65"
      },
      "execution_count": null,
      "outputs": [
        {
          "output_type": "stream",
          "name": "stdout",
          "text": [
            "12\n"
          ]
        }
      ]
    },
    {
      "cell_type": "code",
      "source": [
        "arr2d.shape"
      ],
      "metadata": {
        "colab": {
          "base_uri": "https://localhost:8080/"
        },
        "id": "nzCSSNy4GKU5",
        "outputId": "71cb4f40-06ce-4a31-e6e4-1ab5f84c8195"
      },
      "execution_count": null,
      "outputs": [
        {
          "output_type": "execute_result",
          "data": {
            "text/plain": [
              "(2, 2, 3)"
            ]
          },
          "metadata": {},
          "execution_count": 36
        }
      ]
    },
    {
      "cell_type": "markdown",
      "source": [],
      "metadata": {
        "id": "wF_DCVqDFduN"
      }
    },
    {
      "cell_type": "code",
      "source": [
        "arr.ndim"
      ],
      "metadata": {
        "colab": {
          "base_uri": "https://localhost:8080/"
        },
        "id": "T8OTENSoFbnU",
        "outputId": "024b9852-9a89-49da-f0d6-f0fd4dfde787"
      },
      "execution_count": null,
      "outputs": [
        {
          "output_type": "execute_result",
          "data": {
            "text/plain": [
              "2"
            ]
          },
          "metadata": {},
          "execution_count": 23
        }
      ]
    },
    {
      "cell_type": "markdown",
      "source": [
        "## want to calculate the memory usage of the given array"
      ],
      "metadata": {
        "id": "QqZx3zhPG3mI"
      }
    },
    {
      "cell_type": "code",
      "source": [
        "arr = np.arange(1,11)"
      ],
      "metadata": {
        "id": "Mgpv_bTKG880"
      },
      "execution_count": null,
      "outputs": []
    },
    {
      "cell_type": "code",
      "source": [
        "arr"
      ],
      "metadata": {
        "colab": {
          "base_uri": "https://localhost:8080/"
        },
        "id": "RPX7MRhSG9ka",
        "outputId": "11d91537-3fcd-4b33-ca82-7868d8ddc4e1"
      },
      "execution_count": null,
      "outputs": [
        {
          "output_type": "execute_result",
          "data": {
            "text/plain": [
              "array([ 1,  2,  3,  4,  5,  6,  7,  8,  9, 10])"
            ]
          },
          "metadata": {},
          "execution_count": 45
        }
      ]
    },
    {
      "cell_type": "code",
      "source": [
        "arr.size*arr.itemsize # 8 bytes"
      ],
      "metadata": {
        "colab": {
          "base_uri": "https://localhost:8080/"
        },
        "id": "UDRqnCjIXR5E",
        "outputId": "1db34b0f-8b97-4255-f8e8-06913c9fa51c"
      },
      "execution_count": null,
      "outputs": [
        {
          "output_type": "execute_result",
          "data": {
            "text/plain": [
              "80"
            ]
          },
          "metadata": {},
          "execution_count": 46
        }
      ]
    },
    {
      "cell_type": "code",
      "source": [
        "arr.nbytes"
      ],
      "metadata": {
        "colab": {
          "base_uri": "https://localhost:8080/"
        },
        "id": "kHz-f52uXaxk",
        "outputId": "3bac4814-40fd-45f8-f9f0-f5f8d42c51cf"
      },
      "execution_count": null,
      "outputs": [
        {
          "output_type": "execute_result",
          "data": {
            "text/plain": [
              "80"
            ]
          },
          "metadata": {},
          "execution_count": 47
        }
      ]
    },
    {
      "cell_type": "code",
      "source": [
        "arr_2d = np.array([[1,2,3,4],[5,6,7,8]])\n",
        "arr_2d"
      ],
      "metadata": {
        "colab": {
          "base_uri": "https://localhost:8080/"
        },
        "id": "uZ-WIJhEYAWO",
        "outputId": "7a80b1a9-bc20-417c-bcfe-31d1155752fd"
      },
      "execution_count": null,
      "outputs": [
        {
          "output_type": "execute_result",
          "data": {
            "text/plain": [
              "array([[1, 2, 3, 4],\n",
              "       [5, 6, 7, 8]])"
            ]
          },
          "metadata": {},
          "execution_count": 48
        }
      ]
    },
    {
      "cell_type": "code",
      "source": [
        "arr_2d.ndim"
      ],
      "metadata": {
        "colab": {
          "base_uri": "https://localhost:8080/"
        },
        "id": "VO7-lFbKYCec",
        "outputId": "3a7e7638-65c4-48a5-c782-f90a078b87c6"
      },
      "execution_count": null,
      "outputs": [
        {
          "output_type": "execute_result",
          "data": {
            "text/plain": [
              "2"
            ]
          },
          "metadata": {},
          "execution_count": 49
        }
      ]
    },
    {
      "cell_type": "code",
      "source": [
        "arr_2d.size"
      ],
      "metadata": {
        "colab": {
          "base_uri": "https://localhost:8080/"
        },
        "id": "2_Q2HlceYFB-",
        "outputId": "00127b14-3caa-462d-a376-ccfee4183c25"
      },
      "execution_count": null,
      "outputs": [
        {
          "output_type": "execute_result",
          "data": {
            "text/plain": [
              "8"
            ]
          },
          "metadata": {},
          "execution_count": 50
        }
      ]
    },
    {
      "cell_type": "markdown",
      "source": [
        "whenever you are working with Numpy or Torch or HuggingFace. Seed - value will make sure the data is uniform.\n",
        "\n",
        "Training process. Multiple calculations:\n",
        "np.dot(weights,data)\n",
        "\n",
        "- in neural network, the initial weights are random. After training, the weights are updated."
      ],
      "metadata": {
        "id": "0EVAZonnHY2y"
      }
    },
    {
      "cell_type": "code",
      "source": [
        "np.random.seed(42) # 0 or 42 or 123\n",
        "# Kaggle competition = seed value"
      ],
      "metadata": {
        "id": "IEq-9LClckLT"
      },
      "execution_count": null,
      "outputs": []
    },
    {
      "cell_type": "code",
      "source": [
        "np.array(range(1,10)) #9"
      ],
      "metadata": {
        "colab": {
          "base_uri": "https://localhost:8080/"
        },
        "id": "D11Yei9kIb8B",
        "outputId": "dcbd9716-ab1a-49ac-e426-2b0b2cbf152a"
      },
      "execution_count": null,
      "outputs": [
        {
          "output_type": "execute_result",
          "data": {
            "text/plain": [
              "array([0, 1, 2, 3, 4, 5, 6, 7, 8, 9])"
            ]
          },
          "metadata": {},
          "execution_count": 52
        }
      ]
    },
    {
      "cell_type": "code",
      "source": [
        "n_arr = np.random.rand(10) # size = 10 0 to 0.99"
      ],
      "metadata": {
        "id": "otTp__fycc_f"
      },
      "execution_count": null,
      "outputs": []
    },
    {
      "cell_type": "code",
      "source": [
        "n_arr"
      ],
      "metadata": {
        "colab": {
          "base_uri": "https://localhost:8080/"
        },
        "id": "NoYDYKmych1C",
        "outputId": "cf5f8b5b-e282-43ea-dad3-38bafe9b4b91"
      },
      "execution_count": null,
      "outputs": [
        {
          "output_type": "execute_result",
          "data": {
            "text/plain": [
              "array([0.12203823, 0.49517691, 0.03438852, 0.9093204 , 0.25877998,\n",
              "       0.66252228, 0.31171108, 0.52006802, 0.54671028, 0.18485446])"
            ]
          },
          "metadata": {},
          "execution_count": 64
        }
      ]
    },
    {
      "cell_type": "code",
      "source": [
        "n_arr.size"
      ],
      "metadata": {
        "colab": {
          "base_uri": "https://localhost:8080/"
        },
        "id": "0c4bPapGcwGV",
        "outputId": "b44441be-2e0c-46b1-d600-66c26295e845"
      },
      "execution_count": null,
      "outputs": [
        {
          "output_type": "execute_result",
          "data": {
            "text/plain": [
              "10"
            ]
          },
          "metadata": {},
          "execution_count": 65
        }
      ]
    },
    {
      "cell_type": "code",
      "source": [
        "n_arr.ndim"
      ],
      "metadata": {
        "colab": {
          "base_uri": "https://localhost:8080/"
        },
        "id": "5aaNafY5cxnO",
        "outputId": "c20e5e48-7bec-41a3-91e9-1b262f5ac9b3"
      },
      "execution_count": null,
      "outputs": [
        {
          "output_type": "execute_result",
          "data": {
            "text/plain": [
              "1"
            ]
          },
          "metadata": {},
          "execution_count": 66
        }
      ]
    },
    {
      "cell_type": "code",
      "source": [
        "# re-shape"
      ],
      "metadata": {
        "id": "1i_EnVLwI9nw"
      },
      "execution_count": null,
      "outputs": []
    },
    {
      "cell_type": "code",
      "source": [
        "n_arr"
      ],
      "metadata": {
        "colab": {
          "base_uri": "https://localhost:8080/"
        },
        "id": "S1dg9bmWJnCB",
        "outputId": "bffa1e64-8748-4b0d-a7f2-1c30b4cf9732"
      },
      "execution_count": null,
      "outputs": [
        {
          "output_type": "execute_result",
          "data": {
            "text/plain": [
              "array([0.12203823, 0.49517691, 0.03438852, 0.9093204 , 0.25877998,\n",
              "       0.66252228, 0.31171108, 0.52006802, 0.54671028, 0.18485446])"
            ]
          },
          "metadata": {},
          "execution_count": 67
        }
      ]
    },
    {
      "cell_type": "code",
      "source": [
        "2*5\n",
        "4*3=12\n",
        "size = 10"
      ],
      "metadata": {
        "id": "d8705RLLJpB4"
      },
      "execution_count": null,
      "outputs": []
    },
    {
      "cell_type": "code",
      "source": [
        "n_arr = n_arr.reshape(2,5) # n_arr.size"
      ],
      "metadata": {
        "id": "GqmDYN6ycrOW"
      },
      "execution_count": null,
      "outputs": []
    },
    {
      "cell_type": "code",
      "source": [
        "n_arr.shape"
      ],
      "metadata": {
        "colab": {
          "base_uri": "https://localhost:8080/"
        },
        "id": "LC1yq2ANc15t",
        "outputId": "720c0538-df2b-412e-d3fd-39be8117447c"
      },
      "execution_count": null,
      "outputs": [
        {
          "output_type": "execute_result",
          "data": {
            "text/plain": [
              "(2, 5)"
            ]
          },
          "metadata": {},
          "execution_count": 69
        }
      ]
    },
    {
      "cell_type": "code",
      "source": [
        "n_arr"
      ],
      "metadata": {
        "colab": {
          "base_uri": "https://localhost:8080/"
        },
        "id": "Moe_lG81J-lU",
        "outputId": "95ae7ca8-b0e0-4232-b31d-88e9fd933369"
      },
      "execution_count": null,
      "outputs": [
        {
          "output_type": "execute_result",
          "data": {
            "text/plain": [
              "array([[0.12203823, 0.49517691, 0.03438852, 0.9093204 , 0.25877998],\n",
              "       [0.66252228, 0.31171108, 0.52006802, 0.54671028, 0.18485446]])"
            ]
          },
          "metadata": {},
          "execution_count": 72
        }
      ]
    },
    {
      "cell_type": "code",
      "source": [
        "n_arr.ndim"
      ],
      "metadata": {
        "colab": {
          "base_uri": "https://localhost:8080/"
        },
        "id": "OyCNVhhHJ8mg",
        "outputId": "c8ce2deb-fc77-46bf-f0e9-91cd9ad4255b"
      },
      "execution_count": null,
      "outputs": [
        {
          "output_type": "execute_result",
          "data": {
            "text/plain": [
              "2"
            ]
          },
          "metadata": {},
          "execution_count": 70
        }
      ]
    },
    {
      "cell_type": "code",
      "source": [
        "n_arr.T"
      ],
      "metadata": {
        "colab": {
          "base_uri": "https://localhost:8080/"
        },
        "id": "K_WLbM4KKCKO",
        "outputId": "6aadb63c-e7b0-43c2-c0c4-9d84fb7158ac"
      },
      "execution_count": null,
      "outputs": [
        {
          "output_type": "execute_result",
          "data": {
            "text/plain": [
              "array([[0.12203823, 0.66252228],\n",
              "       [0.49517691, 0.31171108],\n",
              "       [0.03438852, 0.52006802],\n",
              "       [0.9093204 , 0.54671028],\n",
              "       [0.25877998, 0.18485446]])"
            ]
          },
          "metadata": {},
          "execution_count": 75
        }
      ]
    },
    {
      "cell_type": "code",
      "source": [
        "n_arr = n_arr.reshape(4,3)"
      ],
      "metadata": {
        "id": "uj0o1Iqwc5Id",
        "colab": {
          "base_uri": "https://localhost:8080/",
          "height": 143
        },
        "outputId": "f9fcf3bd-5112-4165-9b50-5d9ac807b479"
      },
      "execution_count": null,
      "outputs": [
        {
          "output_type": "error",
          "ename": "ValueError",
          "evalue": "cannot reshape array of size 10 into shape (4,3)",
          "traceback": [
            "\u001b[0;31m---------------------------------------------------------------------------\u001b[0m",
            "\u001b[0;31mValueError\u001b[0m                                Traceback (most recent call last)",
            "\u001b[0;32m/tmp/ipython-input-2077255364.py\u001b[0m in \u001b[0;36m<cell line: 0>\u001b[0;34m()\u001b[0m\n\u001b[0;32m----> 1\u001b[0;31m \u001b[0mn_arr\u001b[0m \u001b[0;34m=\u001b[0m \u001b[0mn_arr\u001b[0m\u001b[0;34m.\u001b[0m\u001b[0mreshape\u001b[0m\u001b[0;34m(\u001b[0m\u001b[0;36m4\u001b[0m\u001b[0;34m,\u001b[0m\u001b[0;36m3\u001b[0m\u001b[0;34m)\u001b[0m\u001b[0;34m\u001b[0m\u001b[0;34m\u001b[0m\u001b[0m\n\u001b[0m",
            "\u001b[0;31mValueError\u001b[0m: cannot reshape array of size 10 into shape (4,3)"
          ]
        }
      ]
    },
    {
      "cell_type": "code",
      "source": [
        "n_arr.shape"
      ],
      "metadata": {
        "colab": {
          "base_uri": "https://localhost:8080/"
        },
        "id": "GsDnABvDc6tg",
        "outputId": "f7156b4e-7ca0-4364-edd0-07bda8cfdbf4"
      },
      "execution_count": null,
      "outputs": [
        {
          "output_type": "execute_result",
          "data": {
            "text/plain": [
              "(5, 2)"
            ]
          },
          "metadata": {},
          "execution_count": 77
        }
      ]
    },
    {
      "cell_type": "code",
      "source": [
        "n_arr"
      ],
      "metadata": {
        "colab": {
          "base_uri": "https://localhost:8080/"
        },
        "id": "kFsrFX2GdPpl",
        "outputId": "a4431189-d16e-45d7-dc94-c5454080bf7b"
      },
      "execution_count": null,
      "outputs": [
        {
          "output_type": "execute_result",
          "data": {
            "text/plain": [
              "array([[5.96779016e-01, 2.89634755e-02],\n",
              "       [2.53093027e-01, 3.78034694e-05],\n",
              "       [8.68393701e-02, 5.65683206e-01],\n",
              "       [2.77907812e-01, 9.25557826e-01],\n",
              "       [4.34545481e-01, 3.73025355e-01]])"
            ]
          },
          "metadata": {},
          "execution_count": 47
        }
      ]
    },
    {
      "cell_type": "code",
      "source": [
        "trans_n_arr = n_arr.T"
      ],
      "metadata": {
        "id": "kyskYpwwdMcH"
      },
      "execution_count": null,
      "outputs": []
    },
    {
      "cell_type": "code",
      "source": [
        "trans_n_arr.shape"
      ],
      "metadata": {
        "colab": {
          "base_uri": "https://localhost:8080/"
        },
        "id": "NKeF4U4LdPDG",
        "outputId": "a102525c-d8d8-4d77-d265-10c27df0284d"
      },
      "execution_count": null,
      "outputs": [
        {
          "output_type": "execute_result",
          "data": {
            "text/plain": [
              "(2, 5)"
            ]
          },
          "metadata": {},
          "execution_count": 80
        }
      ]
    },
    {
      "cell_type": "code",
      "source": [
        "trans_n_arr"
      ],
      "metadata": {
        "colab": {
          "base_uri": "https://localhost:8080/"
        },
        "id": "6wE8ChBKdRq0",
        "outputId": "b415b4f0-b8b5-4d53-f9d1-a31965f95687"
      },
      "execution_count": null,
      "outputs": [
        {
          "output_type": "execute_result",
          "data": {
            "text/plain": [
              "array([[0.12203823, 0.03438852, 0.25877998, 0.31171108, 0.54671028],\n",
              "       [0.49517691, 0.9093204 , 0.66252228, 0.52006802, 0.18485446]])"
            ]
          },
          "metadata": {},
          "execution_count": 81
        }
      ]
    },
    {
      "cell_type": "markdown",
      "source": [
        "- dot (np.dot) # pairwise similarity = cosine\n",
        "- seed (only when you are training the model)\n",
        "- random (when working with AI - weights are basically randomly generated initially)\n",
        "- transpose. it should the size of the original array\n",
        "- array (numpy: type conversion)"
      ],
      "metadata": {
        "id": "IzRnjyGdKSs1"
      }
    },
    {
      "cell_type": "code",
      "source": [
        "len(n_arr.shape) # len(1,2,3) = 3"
      ],
      "metadata": {
        "colab": {
          "base_uri": "https://localhost:8080/"
        },
        "id": "xEz1USnNKwQw",
        "outputId": "ff16bc5a-d286-44a9-d2b2-8e5cbbc39c35"
      },
      "execution_count": null,
      "outputs": [
        {
          "output_type": "execute_result",
          "data": {
            "text/plain": [
              "2"
            ]
          },
          "metadata": {},
          "execution_count": 83
        }
      ]
    },
    {
      "cell_type": "code",
      "source": [
        "len(n_arr.shape) == n_arr.ndim"
      ],
      "metadata": {
        "colab": {
          "base_uri": "https://localhost:8080/"
        },
        "id": "2Hw5upvJc8iK",
        "outputId": "e1a92b6c-e585-47bd-9243-306947d91dfd"
      },
      "execution_count": null,
      "outputs": [
        {
          "output_type": "execute_result",
          "data": {
            "text/plain": [
              "True"
            ]
          },
          "metadata": {},
          "execution_count": 42
        }
      ]
    },
    {
      "cell_type": "code",
      "source": [
        "n_arr.size"
      ],
      "metadata": {
        "colab": {
          "base_uri": "https://localhost:8080/"
        },
        "id": "DKfDcNE7c_b2",
        "outputId": "23de5474-8a67-49fc-b5ae-c80a800bfead"
      },
      "execution_count": null,
      "outputs": [
        {
          "output_type": "execute_result",
          "data": {
            "text/plain": [
              "10"
            ]
          },
          "metadata": {},
          "execution_count": 43
        }
      ]
    },
    {
      "cell_type": "code",
      "source": [
        "arr_3d = np.array([[[1,2,3,4],[4,5,6,8]],[[1,7,8,9],[0,9,10,11]]])"
      ],
      "metadata": {
        "id": "jfqCs9oLdCPS"
      },
      "execution_count": null,
      "outputs": []
    },
    {
      "cell_type": "code",
      "source": [
        "arr_3d.shape # 2x2x4"
      ],
      "metadata": {
        "colab": {
          "base_uri": "https://localhost:8080/"
        },
        "id": "YtKE4sx_dDD4",
        "outputId": "e4ece77a-2822-4136-d608-6f90cbce7aa9"
      },
      "execution_count": null,
      "outputs": [
        {
          "output_type": "execute_result",
          "data": {
            "text/plain": [
              "(2, 2, 4)"
            ]
          },
          "metadata": {},
          "execution_count": 85
        }
      ]
    },
    {
      "cell_type": "code",
      "source": [
        "width,height,channel = (1080,1920,3) # image\n",
        "# range of colors 0 to 255\n",
        "# 0 - black\n",
        "# 255 - white\n",
        "# RGB - channel- (255,0,0) # red\n",
        "# 0,255,0 # green\n",
        "# 123,0,185"
      ],
      "metadata": {
        "id": "KjkdyAVjLOO_"
      },
      "execution_count": null,
      "outputs": []
    },
    {
      "cell_type": "markdown",
      "source": [
        "# Mathematical operations using Numpy"
      ],
      "metadata": {
        "id": "N2DN7xzPMA01"
      }
    },
    {
      "cell_type": "markdown",
      "source": [
        "np.dot(vector1,vector2)"
      ],
      "metadata": {
        "id": "ez6aR3DAMPSG"
      }
    },
    {
      "cell_type": "markdown",
      "source": [
        "[1,2,3]\n",
        "[4,5,6]\n",
        "4+10+18 = 32\n",
        "np.dot()"
      ],
      "metadata": {
        "id": "ldXbj2tvMegU"
      }
    },
    {
      "cell_type": "code",
      "source": [
        "marks = [65,78,94,66,88,80,91,97,100]\n",
        "marks = np.array(marks)\n",
        "type(marks) #numpy.ndarray\n",
        "\n",
        "# first rule of median\n",
        "# sort [65,66,78,80,88,91,94,97,100]\n",
        "# min and max"
      ],
      "metadata": {
        "colab": {
          "base_uri": "https://localhost:8080/"
        },
        "id": "XXTRVEa8dTer",
        "outputId": "67e71d5f-af3f-4f82-f3f5-8bdd94839d0f"
      },
      "execution_count": null,
      "outputs": [
        {
          "output_type": "execute_result",
          "data": {
            "text/plain": [
              "numpy.ndarray"
            ]
          },
          "metadata": {},
          "execution_count": 91
        }
      ]
    },
    {
      "cell_type": "code",
      "source": [
        "mean = np.mean(marks)\n",
        "print(mean)"
      ],
      "metadata": {
        "colab": {
          "base_uri": "https://localhost:8080/"
        },
        "id": "jyLbaGnjdWFF",
        "outputId": "cc56f282-1331-413e-c69a-04ac8d553aa7"
      },
      "execution_count": null,
      "outputs": [
        {
          "output_type": "stream",
          "name": "stdout",
          "text": [
            "84.33333333333333\n"
          ]
        }
      ]
    },
    {
      "cell_type": "code",
      "source": [
        "sum(marks)/len(marks)"
      ],
      "metadata": {
        "colab": {
          "base_uri": "https://localhost:8080/"
        },
        "id": "LAQevgcSMtlb",
        "outputId": "8664d598-08a8-4e13-ff36-092f3047b858"
      },
      "execution_count": null,
      "outputs": [
        {
          "output_type": "execute_result",
          "data": {
            "text/plain": [
              "np.float64(84.33333333333333)"
            ]
          },
          "metadata": {},
          "execution_count": 93
        }
      ]
    },
    {
      "cell_type": "code",
      "source": [
        "median = np.median(marks)\n",
        "print(median)"
      ],
      "metadata": {
        "colab": {
          "base_uri": "https://localhost:8080/"
        },
        "id": "hJmlX-mbdXhR",
        "outputId": "0f63dff0-6c57-4968-e9bc-2de37c7cb7ec"
      },
      "execution_count": null,
      "outputs": [
        {
          "output_type": "stream",
          "name": "stdout",
          "text": [
            "88.0\n"
          ]
        }
      ]
    },
    {
      "cell_type": "code",
      "source": [
        "variance = np.var(marks)\n",
        "print(variance)"
      ],
      "metadata": {
        "colab": {
          "base_uri": "https://localhost:8080/"
        },
        "id": "3c9Es1U5dcbE",
        "outputId": "3eba9f90-8ea4-4bb7-f107-7d8892e4598d"
      },
      "execution_count": null,
      "outputs": [
        {
          "output_type": "stream",
          "name": "stdout",
          "text": [
            "147.33333333333334\n"
          ]
        }
      ]
    },
    {
      "cell_type": "code",
      "source": [
        "np.sqrt(variance) # standard deviation"
      ],
      "metadata": {
        "colab": {
          "base_uri": "https://localhost:8080/"
        },
        "id": "SEyKOsKDNacS",
        "outputId": "33b76a2a-bfe6-4232-92f4-6de7aecc1751"
      },
      "execution_count": null,
      "outputs": [
        {
          "output_type": "execute_result",
          "data": {
            "text/plain": [
              "np.float64(12.138094304022083)"
            ]
          },
          "metadata": {},
          "execution_count": 97
        }
      ]
    },
    {
      "cell_type": "code",
      "source": [
        "std_deviation = np.std(marks) # normalize the given array\n",
        "print(std_deviation)"
      ],
      "metadata": {
        "colab": {
          "base_uri": "https://localhost:8080/"
        },
        "id": "zJSUCiTZdiPv",
        "outputId": "9ccca26f-5c7e-4354-f6b6-b237b91eb56e"
      },
      "execution_count": null,
      "outputs": [
        {
          "output_type": "stream",
          "name": "stdout",
          "text": [
            "12.138094304022083\n"
          ]
        }
      ]
    },
    {
      "cell_type": "code",
      "source": [
        "distibution = np.linspace(0,100,9) # distribution\n",
        "distibution"
      ],
      "metadata": {
        "colab": {
          "base_uri": "https://localhost:8080/"
        },
        "id": "FrxouHbgdl0I",
        "outputId": "2892bda6-c72c-4868-c19f-57bd71920d81"
      },
      "execution_count": null,
      "outputs": [
        {
          "output_type": "execute_result",
          "data": {
            "text/plain": [
              "array([  0. ,  12.5,  25. ,  37.5,  50. ,  62.5,  75. ,  87.5, 100. ])"
            ]
          },
          "metadata": {},
          "execution_count": 99
        }
      ]
    },
    {
      "cell_type": "markdown",
      "source": [],
      "metadata": {
        "id": "hR_5ny4RN5h3"
      }
    },
    {
      "cell_type": "code",
      "source": [
        "len(distibution)"
      ],
      "metadata": {
        "colab": {
          "base_uri": "https://localhost:8080/"
        },
        "id": "GtiBhmbuNtO4",
        "outputId": "4ab60202-bf03-40c0-c709-3b00171320f4"
      },
      "execution_count": null,
      "outputs": [
        {
          "output_type": "execute_result",
          "data": {
            "text/plain": [
              "9"
            ]
          },
          "metadata": {},
          "execution_count": 101
        }
      ]
    },
    {
      "cell_type": "code",
      "source": [
        "w = np.random.rand(2,3) #mxn = 2x3\n",
        "x = np.random.rand(3,1) #mxn = 3x1\n",
        "#matrix mul = 2x3,3x1 = 2,1\n",
        "#lets see the dimension"
      ],
      "metadata": {
        "id": "-4h_KMtTdps1"
      },
      "execution_count": null,
      "outputs": []
    },
    {
      "cell_type": "code",
      "source": [
        "matrix_mul = np.matmul(w,x)"
      ],
      "metadata": {
        "id": "Q2F9bLHxdqnr"
      },
      "execution_count": null,
      "outputs": []
    },
    {
      "cell_type": "code",
      "source": [
        "matrix_mul.shape"
      ],
      "metadata": {
        "colab": {
          "base_uri": "https://localhost:8080/"
        },
        "id": "xXD-46azdtjv",
        "outputId": "6aec45cd-2746-4eb7-c9a5-f6d986b57d5f"
      },
      "execution_count": null,
      "outputs": [
        {
          "output_type": "execute_result",
          "data": {
            "text/plain": [
              "(2, 1)"
            ]
          },
          "metadata": {},
          "execution_count": 104
        }
      ]
    },
    {
      "cell_type": "code",
      "source": [
        "dot_product = np.dot(w,x)"
      ],
      "metadata": {
        "id": "wj1zzjQUduqV"
      },
      "execution_count": null,
      "outputs": []
    },
    {
      "cell_type": "code",
      "source": [
        "dot_product.shape"
      ],
      "metadata": {
        "colab": {
          "base_uri": "https://localhost:8080/"
        },
        "id": "47zHt5indwlc",
        "outputId": "cdc06210-66ec-4adf-800a-1a7cdbbe0138"
      },
      "execution_count": null,
      "outputs": [
        {
          "output_type": "execute_result",
          "data": {
            "text/plain": [
              "(2, 1)"
            ]
          },
          "metadata": {},
          "execution_count": 106
        }
      ]
    },
    {
      "cell_type": "code",
      "source": [
        "import math\n",
        "math.log10(10)"
      ],
      "metadata": {
        "colab": {
          "base_uri": "https://localhost:8080/"
        },
        "id": "lSZ9529kd4cD",
        "outputId": "c89f0dd0-b1c3-4f6b-bd94-84e462a69600"
      },
      "execution_count": null,
      "outputs": [
        {
          "output_type": "execute_result",
          "data": {
            "text/plain": [
              "1.0"
            ]
          },
          "metadata": {},
          "execution_count": 109
        }
      ]
    },
    {
      "cell_type": "markdown",
      "source": [
        "## NLTK"
      ],
      "metadata": {
        "id": "NVTAURf5b2Oa"
      }
    },
    {
      "cell_type": "code",
      "source": [
        "import nltk #pip install nltk"
      ],
      "metadata": {
        "id": "skRHbwnEeAB_"
      },
      "execution_count": null,
      "outputs": []
    },
    {
      "cell_type": "code",
      "source": [
        "# this should be just one time process\n",
        "nltk.download('punkt_tab')\n",
        "nltk.download('wordnet') # wordnet - is mainly one of the dataset in the nltk package"
      ],
      "metadata": {
        "colab": {
          "base_uri": "https://localhost:8080/"
        },
        "id": "bGqasGaIeAeY",
        "outputId": "5f24b776-8cde-46eb-ecc7-292fd613a6c0"
      },
      "execution_count": null,
      "outputs": [
        {
          "output_type": "stream",
          "name": "stderr",
          "text": [
            "[nltk_data] Downloading package punkt_tab to /root/nltk_data...\n",
            "[nltk_data]   Unzipping tokenizers/punkt_tab.zip.\n",
            "[nltk_data] Downloading package wordnet to /root/nltk_data...\n"
          ]
        },
        {
          "output_type": "execute_result",
          "data": {
            "text/plain": [
              "True"
            ]
          },
          "metadata": {},
          "execution_count": 2
        }
      ]
    },
    {
      "cell_type": "code",
      "source": [
        "from nltk.tokenize import word_tokenize, sent_tokenize"
      ],
      "metadata": {
        "id": "lFvMjfZXeCPc"
      },
      "execution_count": null,
      "outputs": []
    },
    {
      "cell_type": "code",
      "source": [
        "sample_text = \"NLTK is a powerful library lowerd, for natural language processing in Python.\""
      ],
      "metadata": {
        "id": "aRtG98fLeECy"
      },
      "execution_count": null,
      "outputs": []
    },
    {
      "cell_type": "code",
      "source": [
        "sentences = sent_tokenize(sample_text)"
      ],
      "metadata": {
        "id": "1t1d258oeFZQ"
      },
      "execution_count": null,
      "outputs": []
    },
    {
      "cell_type": "code",
      "source": [
        "len(sentences)"
      ],
      "metadata": {
        "colab": {
          "base_uri": "https://localhost:8080/"
        },
        "id": "6J-JYkGNeIoA",
        "outputId": "b6de54b8-57a8-4d5f-f317-c8a7e84c11b6"
      },
      "execution_count": null,
      "outputs": [
        {
          "output_type": "execute_result",
          "data": {
            "text/plain": [
              "1"
            ]
          },
          "metadata": {},
          "execution_count": 14
        }
      ]
    },
    {
      "cell_type": "code",
      "source": [
        "tokens = word_tokenize(sample_text)\n",
        "len(tokens)"
      ],
      "metadata": {
        "colab": {
          "base_uri": "https://localhost:8080/"
        },
        "id": "s9HiMhrieJPF",
        "outputId": "007f0919-0fbb-486d-d25e-1ef679ff946c"
      },
      "execution_count": null,
      "outputs": [
        {
          "output_type": "execute_result",
          "data": {
            "text/plain": [
              "14"
            ]
          },
          "metadata": {},
          "execution_count": 17
        }
      ]
    },
    {
      "cell_type": "code",
      "source": [
        "from nltk.tokenize.treebank import TreebankWordTokenizer, TreebankWordDetokenizer"
      ],
      "metadata": {
        "id": "Gznd3P2Cb1nU"
      },
      "execution_count": null,
      "outputs": []
    },
    {
      "cell_type": "code",
      "source": [
        "s = \"OpenAI tokenization lowerd.\""
      ],
      "metadata": {
        "id": "Jw9tvbReb4X6"
      },
      "execution_count": null,
      "outputs": []
    },
    {
      "cell_type": "code",
      "source": [
        "d = TreebankWordDetokenizer()\n",
        "t = TreebankWordTokenizer()"
      ],
      "metadata": {
        "id": "v0XWNh7Xb6I6"
      },
      "execution_count": null,
      "outputs": []
    },
    {
      "cell_type": "code",
      "source": [
        "tokens = t.tokenize(s)"
      ],
      "metadata": {
        "id": "rStFc_e_b6m3"
      },
      "execution_count": null,
      "outputs": []
    },
    {
      "cell_type": "code",
      "source": [
        "tokens"
      ],
      "metadata": {
        "colab": {
          "base_uri": "https://localhost:8080/"
        },
        "id": "Se-kJfyIb9B1",
        "outputId": "681d3c22-29c3-423d-ee45-7b22126fb21d"
      },
      "execution_count": null,
      "outputs": [
        {
          "output_type": "execute_result",
          "data": {
            "text/plain": [
              "['OpenAI', 'tokenization', 'lowerd', '.']"
            ]
          },
          "metadata": {},
          "execution_count": 22
        }
      ]
    },
    {
      "cell_type": "code",
      "source": [
        "d.detokenize(tokens) == s"
      ],
      "metadata": {
        "colab": {
          "base_uri": "https://localhost:8080/"
        },
        "id": "hYlWfbHecBuF",
        "outputId": "ebeb4dfc-506d-402d-f595-034c110c4e76"
      },
      "execution_count": null,
      "outputs": [
        {
          "output_type": "execute_result",
          "data": {
            "text/plain": [
              "True"
            ]
          },
          "metadata": {},
          "execution_count": 24
        }
      ]
    },
    {
      "cell_type": "markdown",
      "source": [
        "### POS"
      ],
      "metadata": {
        "id": "giLZ86ZTeOWL"
      }
    },
    {
      "cell_type": "code",
      "source": [
        "nltk.download('averaged_perceptron_tagger_eng')"
      ],
      "metadata": {
        "colab": {
          "base_uri": "https://localhost:8080/"
        },
        "id": "AVnbSYyvF1pc",
        "outputId": "dbda1f40-07ee-4052-ccef-8ff08358c5ee"
      },
      "execution_count": null,
      "outputs": [
        {
          "output_type": "stream",
          "name": "stderr",
          "text": [
            "[nltk_data] Downloading package averaged_perceptron_tagger_eng to\n",
            "[nltk_data]     /root/nltk_data...\n",
            "[nltk_data]   Package averaged_perceptron_tagger_eng is already up-to-\n",
            "[nltk_data]       date!\n"
          ]
        },
        {
          "output_type": "execute_result",
          "data": {
            "text/plain": [
              "True"
            ]
          },
          "metadata": {},
          "execution_count": 31
        }
      ]
    },
    {
      "cell_type": "code",
      "source": [
        "from nltk import pos_tag # parts of speech tagging"
      ],
      "metadata": {
        "id": "MpQJ8DanFQJf"
      },
      "execution_count": null,
      "outputs": []
    },
    {
      "cell_type": "code",
      "source": [
        "sentence = \"The quick brown fox jumps over the lazy dog\"\n",
        "tokens = word_tokenize(sentence)"
      ],
      "metadata": {
        "id": "J84BXJ0RePVL"
      },
      "execution_count": null,
      "outputs": []
    },
    {
      "cell_type": "code",
      "source": [
        "len(tokens)"
      ],
      "metadata": {
        "colab": {
          "base_uri": "https://localhost:8080/"
        },
        "id": "gLqC5EkkFp3g",
        "outputId": "5bb84562-00ec-4834-dc9e-3dc7f308510a"
      },
      "execution_count": null,
      "outputs": [
        {
          "output_type": "execute_result",
          "data": {
            "text/plain": [
              "9"
            ]
          },
          "metadata": {},
          "execution_count": 28
        }
      ]
    },
    {
      "cell_type": "code",
      "source": [
        "tagged = pos_tag(tokens)\n",
        "print(tagged)"
      ],
      "metadata": {
        "colab": {
          "base_uri": "https://localhost:8080/"
        },
        "id": "hD-L5vVJeSam",
        "outputId": "aac2bf89-b3d6-4c15-9233-4ed444bb2944"
      },
      "execution_count": null,
      "outputs": [
        {
          "output_type": "stream",
          "name": "stdout",
          "text": [
            "[('The', 'DT'), ('quick', 'JJ'), ('brown', 'NN'), ('fox', 'NN'), ('jumps', 'VBZ'), ('over', 'IN'), ('the', 'DT'), ('lazy', 'JJ'), ('dog', 'NN')]\n"
          ]
        }
      ]
    },
    {
      "cell_type": "markdown",
      "source": [
        "## Sentiment analysis"
      ],
      "metadata": {
        "id": "UMouO2I1eUMI"
      }
    },
    {
      "cell_type": "code",
      "source": [
        "nltk.download('vader_lexicon')"
      ],
      "metadata": {
        "colab": {
          "base_uri": "https://localhost:8080/"
        },
        "id": "mEjz3S69eVka",
        "outputId": "1fe024bd-0fec-4c15-82f2-83a1b52dc6bd"
      },
      "execution_count": null,
      "outputs": [
        {
          "output_type": "stream",
          "name": "stderr",
          "text": [
            "[nltk_data] Downloading package vader_lexicon to /root/nltk_data...\n"
          ]
        },
        {
          "output_type": "execute_result",
          "data": {
            "text/plain": [
              "True"
            ]
          },
          "metadata": {},
          "execution_count": 33
        }
      ]
    },
    {
      "cell_type": "code",
      "source": [
        "from nltk.sentiment import SentimentIntensityAnalyzer"
      ],
      "metadata": {
        "id": "I5YEdxpfeXUY"
      },
      "execution_count": null,
      "outputs": []
    },
    {
      "cell_type": "code",
      "source": [
        "sia = SentimentIntensityAnalyzer()\n",
        "text = \"this product has killed a customer\"\n",
        "print(sia.polarity_scores(text))"
      ],
      "metadata": {
        "colab": {
          "base_uri": "https://localhost:8080/"
        },
        "id": "rBIMIUMieX55",
        "outputId": "1b0c0233-feed-4982-a87b-a2212d4a5d8b"
      },
      "execution_count": null,
      "outputs": [
        {
          "output_type": "stream",
          "name": "stdout",
          "text": [
            "{'neg': 0.529, 'neu': 0.471, 'pos': 0.0, 'compound': -0.6705}\n"
          ]
        }
      ]
    },
    {
      "cell_type": "markdown",
      "source": [
        "### Synonyms and Antonyms"
      ],
      "metadata": {
        "id": "VA5DjixBebFz"
      }
    },
    {
      "cell_type": "code",
      "source": [
        "from nltk.corpus import wordnet"
      ],
      "metadata": {
        "id": "JcKdo5ZVeb1_"
      },
      "execution_count": null,
      "outputs": []
    },
    {
      "cell_type": "code",
      "source": [
        "word = \"interest\"\n",
        "results = wordnet.synsets(word)"
      ],
      "metadata": {
        "id": "eUdB7xU3ej2C"
      },
      "execution_count": null,
      "outputs": []
    },
    {
      "cell_type": "code",
      "source": [
        "synonyms = []\n",
        "antonyms = []\n",
        "for syn in results:\n",
        "    for lemma in syn.lemmas():\n",
        "        synonyms.append(lemma.name())\n",
        "        if lemma.antonyms():\n",
        "            antonyms.append(lemma.antonyms()[0].name())"
      ],
      "metadata": {
        "id": "MDsacQkpeddY"
      },
      "execution_count": null,
      "outputs": []
    },
    {
      "cell_type": "code",
      "source": [
        "synonyms = set(synonyms)\n",
        "antonyms = set(antonyms)"
      ],
      "metadata": {
        "id": "nmVI6t8hen3G"
      },
      "execution_count": null,
      "outputs": []
    },
    {
      "cell_type": "code",
      "source": [
        "synonyms"
      ],
      "metadata": {
        "colab": {
          "base_uri": "https://localhost:8080/"
        },
        "id": "xMuuWRBKeool",
        "outputId": "68b096c6-e3af-4515-fbc0-3080428bcdd1"
      },
      "execution_count": null,
      "outputs": [
        {
          "output_type": "execute_result",
          "data": {
            "text/plain": [
              "{'concern',\n",
              " 'interest',\n",
              " 'interest_group',\n",
              " 'interestingness',\n",
              " 'involvement',\n",
              " 'matter_to',\n",
              " 'occupy',\n",
              " 'pastime',\n",
              " 'pursuit',\n",
              " 'sake',\n",
              " 'stake',\n",
              " 'worry'}"
            ]
          },
          "metadata": {},
          "execution_count": 64
        }
      ]
    },
    {
      "cell_type": "code",
      "source": [
        "antonyms"
      ],
      "metadata": {
        "colab": {
          "base_uri": "https://localhost:8080/"
        },
        "id": "BvqVBXdBeqFT",
        "outputId": "823ac03a-0599-4e87-99ad-188be92e27fc"
      },
      "execution_count": null,
      "outputs": [
        {
          "output_type": "execute_result",
          "data": {
            "text/plain": [
              "{'bore', 'uninterestingness'}"
            ]
          },
          "metadata": {},
          "execution_count": 65
        }
      ]
    },
    {
      "cell_type": "markdown",
      "source": [
        "## POS Tagging and NER"
      ],
      "metadata": {
        "id": "ZXhYHv36oy88"
      }
    },
    {
      "cell_type": "code",
      "source": [
        "nltk.download('punkt_tab') # lemmatization\n",
        "nltk.download(\"punkt\")\n",
        "nltk.download(\"averaged_perceptron_tagger\")"
      ],
      "metadata": {
        "colab": {
          "base_uri": "https://localhost:8080/"
        },
        "id": "1rKo7sZTpEli",
        "outputId": "2444059e-d774-4f76-f2ce-e7284e88a63f"
      },
      "execution_count": null,
      "outputs": [
        {
          "output_type": "stream",
          "name": "stderr",
          "text": [
            "[nltk_data] Downloading package punkt_tab to /root/nltk_data...\n",
            "[nltk_data]   Package punkt_tab is already up-to-date!\n",
            "[nltk_data] Downloading package punkt to /root/nltk_data...\n",
            "[nltk_data]   Unzipping tokenizers/punkt.zip.\n",
            "[nltk_data] Downloading package averaged_perceptron_tagger to\n",
            "[nltk_data]     /root/nltk_data...\n",
            "[nltk_data]   Unzipping taggers/averaged_perceptron_tagger.zip.\n"
          ]
        },
        {
          "output_type": "execute_result",
          "data": {
            "text/plain": [
              "True"
            ]
          },
          "metadata": {},
          "execution_count": 66
        }
      ]
    },
    {
      "cell_type": "code",
      "source": [
        "sentences = [\n",
        "    \"I am the hope of the universe\",\n",
        "    \"I am going to be the King of the Pirates\",\n",
        "    \"People’s lives don’t end when they die, it is when they lose faith\",\n",
        "    \"I am the bone of my sword, and I have created over a thousand blades\",\n",
        "    \"Fear is not evil, it tells you what your weakness is\",\n",
        "    \"A lesson without pain is meaningless, and that is a truth of the world\",\n",
        "]"
      ],
      "metadata": {
        "id": "OxHvIQaZpGgN"
      },
      "execution_count": null,
      "outputs": []
    },
    {
      "cell_type": "code",
      "source": [
        "for s in sentences:\n",
        "    tokens = nltk.word_tokenize(s)\n",
        "    pos_tags = nltk.pos_tag(tokens)\n",
        "    print(pos_tags)\n",
        "    # ner"
      ],
      "metadata": {
        "colab": {
          "base_uri": "https://localhost:8080/"
        },
        "id": "ff_j5-Z_pZma",
        "outputId": "2483bd9d-db99-4569-832a-380b1e1c1227"
      },
      "execution_count": null,
      "outputs": [
        {
          "output_type": "stream",
          "name": "stdout",
          "text": [
            "[('I', 'PRP'), ('am', 'VBP'), ('the', 'DT'), ('hope', 'NN'), ('of', 'IN'), ('the', 'DT'), ('universe', 'NN')]\n",
            "[('I', 'PRP'), ('am', 'VBP'), ('going', 'VBG'), ('to', 'TO'), ('be', 'VB'), ('the', 'DT'), ('King', 'NNP'), ('of', 'IN'), ('the', 'DT'), ('Pirates', 'NNS')]\n",
            "[('People', 'NNS'), ('’', 'VBP'), ('s', 'JJ'), ('lives', 'NNS'), ('don', 'VBP'), ('’', 'JJ'), ('t', 'JJ'), ('end', 'NN'), ('when', 'WRB'), ('they', 'PRP'), ('die', 'VBP'), (',', ','), ('it', 'PRP'), ('is', 'VBZ'), ('when', 'WRB'), ('they', 'PRP'), ('lose', 'VBP'), ('faith', 'NN')]\n",
            "[('I', 'PRP'), ('am', 'VBP'), ('the', 'DT'), ('bone', 'NN'), ('of', 'IN'), ('my', 'PRP$'), ('sword', 'NN'), (',', ','), ('and', 'CC'), ('I', 'PRP'), ('have', 'VBP'), ('created', 'VBN'), ('over', 'IN'), ('a', 'DT'), ('thousand', 'CD'), ('blades', 'NNS')]\n",
            "[('Fear', 'NN'), ('is', 'VBZ'), ('not', 'RB'), ('evil', 'JJ'), (',', ','), ('it', 'PRP'), ('tells', 'VBZ'), ('you', 'PRP'), ('what', 'WP'), ('your', 'PRP$'), ('weakness', 'NN'), ('is', 'VBZ')]\n",
            "[('A', 'DT'), ('lesson', 'NN'), ('without', 'IN'), ('pain', 'NN'), ('is', 'VBZ'), ('meaningless', 'JJ'), (',', ','), ('and', 'CC'), ('that', 'DT'), ('is', 'VBZ'), ('a', 'DT'), ('truth', 'NN'), ('of', 'IN'), ('the', 'DT'), ('world', 'NN')]\n"
          ]
        }
      ]
    },
    {
      "cell_type": "code",
      "source": [
        "nltk.download(\"maxent_ne_chunker\")\n",
        "nltk.download(\"words\")\n",
        "nltk.download('maxent_ne_chunker_tab')"
      ],
      "metadata": {
        "colab": {
          "base_uri": "https://localhost:8080/"
        },
        "id": "kJ0DYtrQptGi",
        "outputId": "58ba7c32-09b2-4e4d-e17d-88bbfdb2c868"
      },
      "execution_count": null,
      "outputs": [
        {
          "output_type": "stream",
          "name": "stderr",
          "text": [
            "[nltk_data] Downloading package maxent_ne_chunker to\n",
            "[nltk_data]     /root/nltk_data...\n",
            "[nltk_data]   Unzipping chunkers/maxent_ne_chunker.zip.\n",
            "[nltk_data] Downloading package words to /root/nltk_data...\n",
            "[nltk_data]   Unzipping corpora/words.zip.\n",
            "[nltk_data] Downloading package maxent_ne_chunker_tab to\n",
            "[nltk_data]     /root/nltk_data...\n",
            "[nltk_data]   Unzipping chunkers/maxent_ne_chunker_tab.zip.\n"
          ]
        },
        {
          "output_type": "execute_result",
          "data": {
            "text/plain": [
              "True"
            ]
          },
          "metadata": {},
          "execution_count": 69
        }
      ]
    },
    {
      "cell_type": "markdown",
      "source": [
        "nltk:\n",
        "- download.py #\n",
        "- main.py # nltk.download()"
      ],
      "metadata": {
        "id": "Si1cFMGGLsNg"
      }
    },
    {
      "cell_type": "code",
      "source": [
        "sentences = [\n",
        "    \"Barack Obama was born in Hawaii.\",\n",
        "    \"Apple is looking at buying a United Kingdom startup.\",\n",
        "    \"Elon Musk founded Vimal at India\",\n",
        "]"
      ],
      "metadata": {
        "id": "2WuGoU_RpuvC"
      },
      "execution_count": null,
      "outputs": []
    },
    {
      "cell_type": "code",
      "source": [
        "for s in sentences:\n",
        "    tokens = nltk.word_tokenize(s)\n",
        "    pos_tags = nltk.pos_tag(tokens)\n",
        "    chunks = nltk.ne_chunk(pos_tags)\n",
        "    print(chunks)"
      ],
      "metadata": {
        "colab": {
          "base_uri": "https://localhost:8080/"
        },
        "id": "X8zAJniUo0ZT",
        "outputId": "b7e1bdd0-e921-4915-c5bc-0db0783be643"
      },
      "execution_count": null,
      "outputs": [
        {
          "output_type": "stream",
          "name": "stdout",
          "text": [
            "(S\n",
            "  (PERSON Barack/NNP)\n",
            "  (PERSON Obama/NNP)\n",
            "  was/VBD\n",
            "  born/VBN\n",
            "  in/IN\n",
            "  (GPE Hawaii/NNP)\n",
            "  ./.)\n",
            "(S\n",
            "  (GPE Apple/NNP)\n",
            "  is/VBZ\n",
            "  looking/VBG\n",
            "  at/IN\n",
            "  buying/VBG\n",
            "  a/DT\n",
            "  (GPE United/NNP Kingdom/NNP)\n",
            "  startup/NN\n",
            "  ./.)\n",
            "(S\n",
            "  (PERSON Elon/NNP)\n",
            "  (PERSON Musk/NNP)\n",
            "  founded/VBD\n",
            "  (PERSON Vimal/NNP)\n",
            "  at/IN\n",
            "  (GPE India/NNP))\n"
          ]
        }
      ]
    },
    {
      "cell_type": "markdown",
      "source": [
        "## Stopwords"
      ],
      "metadata": {
        "id": "jisdDN0Ep7Bv"
      }
    },
    {
      "cell_type": "code",
      "source": [
        "nltk.download(\"stopwords\")"
      ],
      "metadata": {
        "colab": {
          "base_uri": "https://localhost:8080/"
        },
        "id": "Yn0JqKvWp-ST",
        "outputId": "51cf2121-a082-4352-92cd-4c00636b0242"
      },
      "execution_count": null,
      "outputs": [
        {
          "output_type": "stream",
          "name": "stderr",
          "text": [
            "[nltk_data] Downloading package stopwords to /root/nltk_data...\n",
            "[nltk_data]   Unzipping corpora/stopwords.zip.\n"
          ]
        },
        {
          "output_type": "execute_result",
          "data": {
            "text/plain": [
              "True"
            ]
          },
          "metadata": {},
          "execution_count": 80
        }
      ]
    },
    {
      "cell_type": "code",
      "source": [
        "from nltk.corpus import stopwords\n",
        "\n",
        "stop_words = set(stopwords.words(\"english\"))"
      ],
      "metadata": {
        "id": "OZPe1NhUqACE"
      },
      "execution_count": null,
      "outputs": []
    },
    {
      "cell_type": "code",
      "source": [
        "stop_words"
      ],
      "metadata": {
        "id": "kljP4d6yNnMJ"
      },
      "execution_count": null,
      "outputs": []
    },
    {
      "cell_type": "code",
      "source": [
        "quotes = [\n",
        "    \"I am the hope of the universe\",\n",
        "    \"I am going to be the King of the Pirates\",\n",
        "    \"People’s lives don’t end when they die, it is when they lose faith\",\n",
        "    \"I am the bone of my sword, and I have created over a thousand blades\",\n",
        "    \"Fear is not evil, it tells you what your weakness is\",\n",
        "    \"A lesson without pain is meaningless, and that is a truth of the world\",\n",
        "]"
      ],
      "metadata": {
        "id": "nn23KckdqGvK"
      },
      "execution_count": null,
      "outputs": []
    },
    {
      "cell_type": "code",
      "source": [
        "for s in quotes:\n",
        "    tokens = nltk.word_tokenize(s)\n",
        "    filtered = [w for w in tokens if w.lower() not in stop_words] # list comprehension\n",
        "    print(\"Original:\", s)\n",
        "    print(\"Filtered:\", \" \".join(filtered), \"\\n\")"
      ],
      "metadata": {
        "colab": {
          "base_uri": "https://localhost:8080/"
        },
        "id": "D1e_CRNhp8KD",
        "outputId": "e0d3e954-1f10-49a7-df3b-8ea6fda74cea"
      },
      "execution_count": null,
      "outputs": [
        {
          "output_type": "stream",
          "name": "stdout",
          "text": [
            "Original: I am the hope of the universe\n",
            "Filtered: hope universe \n",
            "\n",
            "Original: I am going to be the King of the Pirates\n",
            "Filtered: going King Pirates \n",
            "\n",
            "Original: People’s lives don’t end when they die, it is when they lose faith\n",
            "Filtered: People ’ lives ’ end die , lose faith \n",
            "\n",
            "Original: I am the bone of my sword, and I have created over a thousand blades\n",
            "Filtered: bone sword , created thousand blades \n",
            "\n",
            "Original: Fear is not evil, it tells you what your weakness is\n",
            "Filtered: Fear evil , tells weakness \n",
            "\n",
            "Original: A lesson without pain is meaningless, and that is a truth of the world\n",
            "Filtered: lesson without pain meaningless , truth world \n",
            "\n"
          ]
        }
      ]
    },
    {
      "cell_type": "markdown",
      "source": [
        "## Lemmatization and Stemming"
      ],
      "metadata": {
        "id": "Beyumf8JnPT3"
      }
    },
    {
      "cell_type": "markdown",
      "source": [
        "### Stemming: Just cuts off prefixes/suffixes without caring about grammar."
      ],
      "metadata": {
        "id": "bkN0gch6nuaO"
      }
    },
    {
      "cell_type": "code",
      "source": [
        "from nltk.stem import PorterStemmer"
      ],
      "metadata": {
        "id": "SZwmbrg0naLb"
      },
      "execution_count": null,
      "outputs": []
    },
    {
      "cell_type": "code",
      "source": [
        "words = [\"playing\", \"played\", \"happily\", \"flies\", \"better\", \"best\",\"running\",\"runs\"]"
      ],
      "metadata": {
        "id": "r0MdnXnnnQ1Q"
      },
      "execution_count": null,
      "outputs": []
    },
    {
      "cell_type": "code",
      "source": [
        "ps = PorterStemmer()"
      ],
      "metadata": {
        "id": "LnHUG9axn2_8"
      },
      "execution_count": null,
      "outputs": []
    },
    {
      "cell_type": "code",
      "source": [
        "[ps.stem(w) for w in words]"
      ],
      "metadata": {
        "colab": {
          "base_uri": "https://localhost:8080/"
        },
        "id": "fdWz2zn0nc7t",
        "outputId": "e92cdf18-1a5b-4249-9c3f-8b971ae935f5"
      },
      "execution_count": null,
      "outputs": [
        {
          "output_type": "execute_result",
          "data": {
            "text/plain": [
              "['play', 'play', 'happili', 'fli', 'better', 'best', 'run', 'run']"
            ]
          },
          "metadata": {},
          "execution_count": 90
        }
      ]
    },
    {
      "cell_type": "markdown",
      "source": [
        "### Lemmatization"
      ],
      "metadata": {
        "id": "ieuyuHKxnx5s"
      }
    },
    {
      "cell_type": "code",
      "source": [
        "from nltk.stem import WordNetLemmatizer"
      ],
      "metadata": {
        "id": "GhzMw9c9nrwr"
      },
      "execution_count": null,
      "outputs": []
    },
    {
      "cell_type": "code",
      "source": [
        "lem = WordNetLemmatizer()"
      ],
      "metadata": {
        "id": "PGNGqDprn8Fe"
      },
      "execution_count": null,
      "outputs": []
    },
    {
      "cell_type": "code",
      "source": [
        "[lem.lemmatize(w,pos=\"v\") for w in words]"
      ],
      "metadata": {
        "colab": {
          "base_uri": "https://localhost:8080/"
        },
        "id": "XMIrGzPdn6f6",
        "outputId": "909cbedf-da88-4727-caa2-7828c27f17b5"
      },
      "execution_count": null,
      "outputs": [
        {
          "output_type": "execute_result",
          "data": {
            "text/plain": [
              "['play', 'play', 'happily', 'fly', 'better', 'best', 'run', 'run']"
            ]
          },
          "metadata": {},
          "execution_count": 99
        }
      ]
    }
  ]
}