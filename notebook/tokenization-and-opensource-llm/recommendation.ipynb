{
  "cells": [
    {
      "cell_type": "code",
      "execution_count": null,
      "metadata": {
        "id": "AMlMboxUJsQj",
        "colab": {
          "base_uri": "https://localhost:8080/"
        },
        "outputId": "8f6e4af7-4be0-4980-cd9c-f181ce6ce9ce"
      },
      "outputs": [
        {
          "output_type": "stream",
          "name": "stdout",
          "text": [
            "Installing collected packages: py-rust-stemmers, mmh3, loguru, humanfriendly, coloredlogs, onnxruntime, fastembed\n",
            "Successfully installed coloredlogs-15.0.1 fastembed-0.7.1 humanfriendly-10.0 loguru-0.7.3 mmh3-5.2.0 onnxruntime-1.22.1 py-rust-stemmers-0.1.5\n"
          ]
        }
      ],
      "source": [
        "!pip install fastembed"
      ]
    },
    {
      "cell_type": "code",
      "execution_count": null,
      "metadata": {
        "id": "b7iVpTboJxhH"
      },
      "outputs": [],
      "source": [
        "from sklearn.feature_extraction.text import TfidfVectorizer\n",
        "from sklearn.metrics.pairwise import cosine_similarity\n",
        "from fastembed import TextEmbedding\n",
        "import pandas as pd\n",
        "import numpy as np"
      ]
    },
    {
      "cell_type": "code",
      "execution_count": null,
      "metadata": {
        "colab": {
          "base_uri": "https://localhost:8080/"
        },
        "id": "2Z-TpKZEJ11E",
        "outputId": "b4a84383-5d38-4b9d-8a0e-9c6dd67cc106"
      },
      "outputs": [
        {
          "output_type": "execute_result",
          "data": {
            "text/plain": [
              "(250, 13)"
            ]
          },
          "metadata": {},
          "execution_count": 3
        }
      ],
      "source": [
        "df = pd.read_csv('imdb.csv')\n",
        "df.shape"
      ]
    },
    {
      "cell_type": "code",
      "source": [
        "df.info()"
      ],
      "metadata": {
        "colab": {
          "base_uri": "https://localhost:8080/"
        },
        "id": "IT0nmv4DXTSx",
        "outputId": "d3b8ee2c-84da-4d94-9017-f4f431957b74"
      },
      "execution_count": null,
      "outputs": [
        {
          "output_type": "stream",
          "name": "stdout",
          "text": [
            "<class 'pandas.core.frame.DataFrame'>\n",
            "RangeIndex: 250 entries, 0 to 249\n",
            "Data columns (total 13 columns):\n",
            " #   Column       Non-Null Count  Dtype  \n",
            "---  ------       --------------  -----  \n",
            " 0   rank         250 non-null    int64  \n",
            " 1   name         250 non-null    object \n",
            " 2   year         250 non-null    object \n",
            " 3   rating       250 non-null    float64\n",
            " 4   genre        250 non-null    object \n",
            " 5   certificate  250 non-null    object \n",
            " 6   run_time     250 non-null    object \n",
            " 7   tagline      250 non-null    object \n",
            " 8   budget       250 non-null    object \n",
            " 9   box_office   250 non-null    object \n",
            " 10  casts        250 non-null    object \n",
            " 11  directors    250 non-null    object \n",
            " 12  writers      250 non-null    object \n",
            "dtypes: float64(1), int64(1), object(11)\n",
            "memory usage: 25.5+ KB\n"
          ]
        }
      ]
    },
    {
      "cell_type": "code",
      "source": [
        "df['year'] = df['year'].astype(str)"
      ],
      "metadata": {
        "id": "loIP8xWzYrGy"
      },
      "execution_count": null,
      "outputs": []
    },
    {
      "cell_type": "code",
      "source": [
        "df.shape"
      ],
      "metadata": {
        "colab": {
          "base_uri": "https://localhost:8080/"
        },
        "id": "B2wH4luUZX8f",
        "outputId": "0e6770b8-5ee2-4b34-9368-c35b504fccad"
      },
      "execution_count": null,
      "outputs": [
        {
          "output_type": "execute_result",
          "data": {
            "text/plain": [
              "(250, 12)"
            ]
          },
          "metadata": {},
          "execution_count": 31
        }
      ]
    },
    {
      "cell_type": "code",
      "source": [
        "df.drop(\"certificate\",axis=1,inplace=True)"
      ],
      "metadata": {
        "id": "nPcLhV0cY220"
      },
      "execution_count": null,
      "outputs": []
    },
    {
      "cell_type": "code",
      "source": [
        "df['Overview'] = df[['name','tagline','genre','casts','directors','writers']].apply(lambda x: ' '.join(x), axis=1)"
      ],
      "metadata": {
        "id": "CxKMnOWWZoqj"
      },
      "execution_count": null,
      "outputs": []
    },
    {
      "cell_type": "code",
      "source": [
        "df['Overview']"
      ],
      "metadata": {
        "id": "uehkp5A8Z8Rc"
      },
      "execution_count": null,
      "outputs": []
    },
    {
      "cell_type": "code",
      "source": [
        "s = \"funny comedy movie\""
      ],
      "metadata": {
        "id": "RCYMXabbchQ0"
      },
      "execution_count": null,
      "outputs": []
    },
    {
      "cell_type": "code",
      "source": [
        "[s]"
      ],
      "metadata": {
        "id": "p5PD5gHEckHE"
      },
      "execution_count": null,
      "outputs": []
    },
    {
      "cell_type": "code",
      "source": [
        "class TFIDFRecommender:\n",
        "    def __init__(self):\n",
        "        self.vectorizer = TfidfVectorizer(stop_words='english', max_features=5000)\n",
        "        self.tfidf_matrix = None\n",
        "        self.df = None\n",
        "\n",
        "    def fit(self, df, text_column):\n",
        "        self.df = df\n",
        "        texts = df[text_column].astype(str)\n",
        "        self.tfidf_matrix = self.vectorizer.fit_transform(texts)\n",
        "\n",
        "    def recommend(self, query, top_k=5):\n",
        "        query_vector = self.vectorizer.transform(query.split())\n",
        "        similarities = cosine_similarity(query_vector, self.tfidf_matrix).flatten()\n",
        "\n",
        "        results_df = pd.DataFrame({\n",
        "            'name': self.df['name'],\n",
        "            'similarity': similarities\n",
        "        })\n",
        "        results_df = results_df.sort_values('similarity', ascending=False).head(top_k)\n",
        "\n",
        "        return results_df[['name', 'similarity']].to_dict('records')"
      ],
      "metadata": {
        "id": "PckjpE4rTctT"
      },
      "execution_count": null,
      "outputs": []
    },
    {
      "cell_type": "code",
      "source": [
        "class DenseRecommender:\n",
        "    def __init__(self):\n",
        "        self.model = TextEmbedding(\"jinaai/jina-embeddings-v2-base-en\")\n",
        "        self.embeddings = None\n",
        "        self.df = None\n",
        "\n",
        "    def fit(self, df, text_column):\n",
        "        self.df = df\n",
        "        texts = df[text_column].astype(str).tolist()\n",
        "        self.embeddings = np.array(list(self.model.embed(texts)))\n",
        "\n",
        "    def recommend(self, query, top_k=5):\n",
        "        query_embedding = np.array(list(self.model.embed([query])))[0]\n",
        "        similarities = cosine_similarity([query_embedding], self.embeddings).flatten()\n",
        "\n",
        "        # Create DataFrame with similarities and sort\n",
        "        results_df = pd.DataFrame({\n",
        "            'name': self.df['name'],\n",
        "            'similarity': similarities\n",
        "        })\n",
        "        results_df = results_df.sort_values('similarity', ascending=False).head(top_k)\n",
        "\n",
        "        return results_df[['name', 'similarity']].to_dict('records')"
      ],
      "metadata": {
        "id": "8_3sfLk3TirG"
      },
      "execution_count": null,
      "outputs": []
    },
    {
      "cell_type": "code",
      "source": [
        "tfidf_recommender = TFIDFRecommender()\n",
        "dense_recommender = DenseRecommender()"
      ],
      "metadata": {
        "id": "UMBqLgGjTmyn"
      },
      "execution_count": null,
      "outputs": []
    },
    {
      "cell_type": "code",
      "source": [
        "text_column = 'Overview'\n",
        "\n",
        "print(\"Fitting TF-IDF recommender...\")\n",
        "tfidf_recommender.fit(df, text_column) # training"
      ],
      "metadata": {
        "colab": {
          "base_uri": "https://localhost:8080/"
        },
        "id": "n0ljl3byTpPn",
        "outputId": "d3e0903e-13c3-4f93-8198-56c277d1f0a6"
      },
      "execution_count": null,
      "outputs": [
        {
          "output_type": "stream",
          "name": "stdout",
          "text": [
            "Fitting TF-IDF recommender...\n"
          ]
        }
      ]
    },
    {
      "cell_type": "code",
      "source": [
        "print(\"Fitting dense recommender...\")\n",
        "dense_recommender.fit(df, text_column)"
      ],
      "metadata": {
        "colab": {
          "base_uri": "https://localhost:8080/"
        },
        "id": "_urjXzaJTsd5",
        "outputId": "a40a262b-fbf5-412c-c735-4136c7521d6f"
      },
      "execution_count": null,
      "outputs": [
        {
          "output_type": "stream",
          "name": "stdout",
          "text": [
            "Fitting dense recommender...\n"
          ]
        }
      ]
    },
    {
      "cell_type": "code",
      "source": [
        "query = \"funny comedy movie\""
      ],
      "metadata": {
        "id": "CH0ZH70hTuor"
      },
      "execution_count": null,
      "outputs": []
    },
    {
      "cell_type": "code",
      "source": [
        "tfidf_results = tfidf_recommender.recommend(query, top_k=3)"
      ],
      "metadata": {
        "id": "MziwgXdATwm_"
      },
      "execution_count": null,
      "outputs": []
    },
    {
      "cell_type": "code",
      "source": [
        "tfidf_results"
      ],
      "metadata": {
        "colab": {
          "base_uri": "https://localhost:8080/"
        },
        "id": "MgopOQ8ET0DU",
        "outputId": "8d0de925-1bba-45d3-ed3f-09318fc3a20e"
      },
      "execution_count": null,
      "outputs": [
        {
          "output_type": "execute_result",
          "data": {
            "text/plain": [
              "[{'name': 'The Exorcist', 'similarity': 0.15829510639195857},\n",
              " {'name': 'The Apartment', 'similarity': 0.14817741837385537},\n",
              " {'name': 'Toy Story 3', 'similarity': 0.0698034239605489}]"
            ]
          },
          "metadata": {},
          "execution_count": 41
        }
      ]
    },
    {
      "cell_type": "code",
      "source": [
        "dense_results = dense_recommender.recommend(query, top_k=3)"
      ],
      "metadata": {
        "id": "lWRQUmwqT1rj"
      },
      "execution_count": null,
      "outputs": []
    },
    {
      "cell_type": "code",
      "source": [
        "dense_results"
      ],
      "metadata": {
        "colab": {
          "base_uri": "https://localhost:8080/"
        },
        "id": "F_RiXawnT22A",
        "outputId": "1a7863ce-e401-4678-909d-b309545a9286"
      },
      "execution_count": null,
      "outputs": [
        {
          "output_type": "execute_result",
          "data": {
            "text/plain": [
              "[{'name': 'Snatch', 'similarity': 0.754506028435991},\n",
              " {'name': 'Dr. Strangelove or: How I Learned to Stop Worrying and Love the Bomb',\n",
              "  'similarity': 0.7448568512086527},\n",
              " {'name': 'Sherlock Jr.', 'similarity': 0.7421745630841639}]"
            ]
          },
          "metadata": {},
          "execution_count": 43
        }
      ]
    }
  ],
  "metadata": {
    "colab": {
      "provenance": []
    },
    "kernelspec": {
      "display_name": "Python 3",
      "name": "python3"
    },
    "language_info": {
      "name": "python"
    }
  },
  "nbformat": 4,
  "nbformat_minor": 0
}